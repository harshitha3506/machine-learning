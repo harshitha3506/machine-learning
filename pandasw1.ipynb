{
  "nbformat": 4,
  "nbformat_minor": 0,
  "metadata": {
    "colab": {
      "provenance": [],
      "authorship_tag": "ABX9TyMG9aSrJETL1JtwRTu9fO06",
      "include_colab_link": true
    },
    "kernelspec": {
      "name": "python3",
      "display_name": "Python 3"
    },
    "language_info": {
      "name": "python"
    }
  },
  "cells": [
    {
      "cell_type": "markdown",
      "metadata": {
        "id": "view-in-github",
        "colab_type": "text"
      },
      "source": [
        "<a href=\"https://colab.research.google.com/github/harshitha3506/machine-learning/blob/main/pandasw1.ipynb\" target=\"_parent\"><img src=\"https://colab.research.google.com/assets/colab-badge.svg\" alt=\"Open In Colab\"/></a>"
      ]
    },
    {
      "cell_type": "code",
      "execution_count": null,
      "metadata": {
        "colab": {
          "base_uri": "https://localhost:8080/"
        },
        "id": "swlyKIPk5HI3",
        "outputId": "e3b5128a-a2b6-4b1f-cd7b-d2bc4edb2aa2"
      },
      "outputs": [
        {
          "output_type": "stream",
          "name": "stdout",
          "text": [
            "            2014   2015    2016   2017\n",
            "Madhu      100.5  12000   20000  50000\n",
            "Kusum      150.8  18000   50000  60000\n",
            "Kinshuk    200.9  22000   70000  70000\n",
            "Ankit    30000.0  30000  100000  80000\n",
            "Shruti   40000.0  45000  125000  90000\n"
          ]
        }
      ],
      "source": [
        "import pandas as pd\n",
        "Sales = pd.DataFrame({\n",
        "    2014: [100.5, 150.8, 200.9, 30000, 40000],\n",
        "    2015: [12000, 18000, 22000, 30000, 45000],\n",
        "    2016: [20000, 50000, 70000, 100000, 125000],\n",
        "    2017: [50000, 60000, 70000, 80000, 90000]\n",
        "},\n",
        "index=['Madhu', 'Kusum', 'Kinshuk', 'Ankit', 'Shruti'])\n",
        "print(Sales)\n"
      ]
    },
    {
      "cell_type": "code",
      "source": [
        "print(\"Row\", Sales.index)\n",
        "print(\"Column\", Sales.columns)\n",
        "print(\"Data types\", Sales.dtypes)\n",
        "print(\"Dimensions:\", Sales.ndim)\n",
        "print(\"Shape:\", Sales.shape)\n",
        "print(\"Size:\", Sales.size)\n",
        "print(\"Values\", Sales.values)\n",
        "print(\"Last two rows\", Sales.tail(2))\n",
        "print(\"First two columns:\", Sales.iloc[:, :2])\n"
      ],
      "metadata": {
        "colab": {
          "base_uri": "https://localhost:8080/"
        },
        "id": "dzKjsTf03QBk",
        "outputId": "81eaa121-47d2-4af0-bf89-f875b45a8cde"
      },
      "execution_count": null,
      "outputs": [
        {
          "output_type": "stream",
          "name": "stdout",
          "text": [
            "Row Index(['Madhu', 'Kusum', 'Kinshuk', 'Ankit', 'Shruti'], dtype='object')\n",
            "Column Index([2014, 2015, 2016, 2017], dtype='int64')\n",
            "Data types 2014    float64\n",
            "2015      int64\n",
            "2016      int64\n",
            "2017      int64\n",
            "dtype: object\n",
            "Dimensions: 2\n",
            "Shape: (5, 4)\n",
            "Size: 20\n",
            "Values [[1.005e+02 1.200e+04 2.000e+04 5.000e+04]\n",
            " [1.508e+02 1.800e+04 5.000e+04 6.000e+04]\n",
            " [2.009e+02 2.200e+04 7.000e+04 7.000e+04]\n",
            " [3.000e+04 3.000e+04 1.000e+05 8.000e+04]\n",
            " [4.000e+04 4.500e+04 1.250e+05 9.000e+04]]\n",
            "Last two rows            2014   2015    2016   2017\n",
            "Ankit   30000.0  30000  100000  80000\n",
            "Shruti  40000.0  45000  125000  90000\n",
            "First two columns:             2014   2015\n",
            "Madhu      100.5  12000\n",
            "Kusum      150.8  18000\n",
            "Kinshuk    200.9  22000\n",
            "Ankit    30000.0  30000\n",
            "Shruti   40000.0  45000\n"
          ]
        }
      ]
    },
    {
      "cell_type": "code",
      "source": [
        "Sales2 = pd.DataFrame({\n",
        "    2018: [160000, 110000, 500000, 340000, 900000]\n",
        "},\n",
        "index=['Madhu', 'Kusum', 'Kinshuk', 'Ankit', 'Shruti'])\n",
        "print(\"Sales2 DataFrame:\")\n",
        "print(Sales2)\n",
        "print(Sales2.empty)\n"
      ],
      "metadata": {
        "colab": {
          "base_uri": "https://localhost:8080/"
        },
        "id": "HDalDvoz3zCG",
        "outputId": "fbb031cc-b332-4fb9-d665-afe3a9aa6b27"
      },
      "execution_count": null,
      "outputs": [
        {
          "output_type": "stream",
          "name": "stdout",
          "text": [
            "Sales2 DataFrame:\n",
            "           2018\n",
            "Madhu    160000\n",
            "Kusum    110000\n",
            "Kinshuk  500000\n",
            "Ankit    340000\n",
            "Shruti   900000\n",
            "False\n"
          ]
        }
      ]
    },
    {
      "cell_type": "code",
      "source": [
        "Sales = pd.concat([Sales, Sales2], axis=1)\n",
        "print(\"Appended Sales\", Sales)\n",
        "print(\"Transposed Sales\", Sales.T)\n",
        "print(\"Sales in 2017\", Sales[2017])\n",
        "print(\"Madhu and Ankit\", Sales.loc[['Madhu', 'Ankit'], [2017, 2018]])\n",
        "print(\"Shruti 2016:\", Sales.at['Shruti', 2016])\n"
      ],
      "metadata": {
        "colab": {
          "base_uri": "https://localhost:8080/"
        },
        "id": "pV7aROge4EOS",
        "outputId": "dabd36c2-1d3d-447a-b720-b647d1948879"
      },
      "execution_count": null,
      "outputs": [
        {
          "output_type": "stream",
          "name": "stdout",
          "text": [
            "Appended Sales             2014   2015    2016   2017    2018    2018\n",
            "Madhu      100.5  12000   20000  50000  160000  160000\n",
            "Kusum      150.8  18000   50000  60000  110000  110000\n",
            "Kinshuk    200.9  22000   70000  70000  500000  500000\n",
            "Ankit    30000.0  30000  100000  80000  340000  340000\n",
            "Shruti   40000.0  45000  125000  90000  900000  900000\n",
            "Transposed Sales          Madhu     Kusum   Kinshuk     Ankit    Shruti\n",
            "2014     100.5     150.8     200.9   30000.0   40000.0\n",
            "2015   12000.0   18000.0   22000.0   30000.0   45000.0\n",
            "2016   20000.0   50000.0   70000.0  100000.0  125000.0\n",
            "2017   50000.0   60000.0   70000.0   80000.0   90000.0\n",
            "2018  160000.0  110000.0  500000.0  340000.0  900000.0\n",
            "2018  160000.0  110000.0  500000.0  340000.0  900000.0\n",
            "Sales in 2017 Madhu      50000\n",
            "Kusum      60000\n",
            "Kinshuk    70000\n",
            "Ankit      80000\n",
            "Shruti     90000\n",
            "Name: 2017, dtype: int64\n",
            "Madhu and Ankit         2017    2018    2018\n",
            "Madhu  50000  160000  160000\n",
            "Ankit  80000  340000  340000\n",
            "Shruti 2016: 125000.0\n"
          ]
        }
      ]
    },
    {
      "cell_type": "code",
      "source": [
        "\n",
        "Sales.to_csv(\"SalesFigures.csv\", index=False, header=False)\n",
        "SalesRetrieved = pd.read_csv(\"SalesFigures.csv\", header=None)\n",
        "SalesRetrieved.index = Sales.index\n",
        "SalesRetrieved.columns = Sales.columns\n",
        "print(\"Reloaded Sales DataFrame:\\n\", SalesRetrieved)\n"
      ],
      "metadata": {
        "colab": {
          "base_uri": "https://localhost:8080/"
        },
        "id": "4_xe4km_42eA",
        "outputId": "423027a0-dedd-489e-f150-15b4ac36edce"
      },
      "execution_count": null,
      "outputs": [
        {
          "output_type": "stream",
          "name": "stdout",
          "text": [
            "Reloaded Sales DataFrame:\n",
            "             2014   2015    2016   2017    2018    2018\n",
            "Madhu      100.5  12000   20000  50000  160000  160000\n",
            "Kusum      150.8  18000   50000  60000  110000  110000\n",
            "Kinshuk    200.9  22000   70000  70000  500000  500000\n",
            "Ankit    30000.0  30000  100000  80000  340000  340000\n",
            "Shruti   40000.0  45000  125000  90000  900000  900000\n"
          ]
        }
      ]
    },
    {
      "cell_type": "code",
      "source": [
        "import matplotlib.pyplot as plt\n",
        "days = [\"Monday\", \"Tuesday\", \"Wednesday\", \"Thursday\", \"Friday\", \"Saturday\", \"Sunday\"]\n",
        "tickets_sold = [2000, 2800, 3000, 2500, 2300, 2500, 1000]\n",
        "plt.figure(figsize=(8, 5))\n",
        "plt.plot(days, tickets_sold, color='magenta', marker='o')\n",
        "plt.title(\"Tickets Sold per Day\")\n",
        "plt.xlabel(\"Day\")\n",
        "plt.ylabel(\"Tickets Sold\")\n",
        "plt.grid(True)\n",
        "plt.show()\n"
      ],
      "metadata": {
        "colab": {
          "base_uri": "https://localhost:8080/",
          "height": 487
        },
        "id": "SXmT99yM5cGm",
        "outputId": "50876e5c-4e13-435f-e7df-1d119960dbb8"
      },
      "execution_count": null,
      "outputs": [
        {
          "output_type": "display_data",
          "data": {
            "text/plain": [
              "<Figure size 800x500 with 1 Axes>"
            ],
            "image/png": "[encoded data removed]"
          },
          "metadata": {}
        }
      ]
    }
  ]
}