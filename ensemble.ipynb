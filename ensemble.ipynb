{
  "nbformat": 4,
  "nbformat_minor": 0,
  "metadata": {
    "colab": {
      "provenance": [],
      "mount_file_id": "1ANdB3dHO1XxYh4fzgo_5DVC_uDXqtDEz",
      "authorship_tag": "ABX9TyOubF5iTUAwE79gwt4/sJTD",
      "include_colab_link": true
    },
    "kernelspec": {
      "name": "python3",
      "display_name": "Python 3"
    },
    "language_info": {
      "name": "python"
    }
  },
  "cells": [
    {
      "cell_type": "markdown",
      "metadata": {
        "id": "view-in-github",
        "colab_type": "text"
      },
      "source": [
        "<a href=\"https://colab.research.google.com/github/harshitha3506/machine-learning/blob/main/ensemble.ipynb\" target=\"_parent\"><img src=\"https://colab.research.google.com/assets/colab-badge.svg\" alt=\"Open In Colab\"/></a>"
      ]
    },
    {
      "cell_type": "markdown",
      "source": [
        "What is Preprocessing?\n",
        "\n",
        "Preprocessing means cleaning and preparing your raw dataset so that machine learning models can understand it.\n",
        "It’s like washing and cutting vegetables before cooking  — the recipe (model) works only if the ingredients are clean and ready."
      ],
      "metadata": {
        "id": "DwGSNj4--hs4"
      }
    },
    {
      "cell_type": "markdown",
      "source": [
        "ENSEMBLE LEARNING BREAST CANCER DATASET"
      ],
      "metadata": {
        "id": "sY7CaQid_RoI"
      }
    },
    {
      "cell_type": "code",
      "source": [
        "import pandas as pd\n",
        "\n",
        "# Load your dataset\n",
        "data = pd.read_csv(\"/content/sample_data/breast-cancer.csv\")\n",
        "\n",
        "# Show basic info\n",
        "print(\"Shape:\", data.shape)\n",
        "print(\"\\nColumn names:\\n\", data.columns.tolist())\n",
        "print(\"\\nFirst 5 rows:\\n\", data.head())\n",
        "print(\"\\nMissing values per column:\\n\", data.isnull().sum())\n"
      ],
      "metadata": {
        "colab": {
          "base_uri": "https://localhost:8080/"
        },
        "id": "KDq4w4Uu-jbw",
        "outputId": "d6ccf958-45d5-46bf-b6e2-381e8a750396"
      },
      "execution_count": null,
      "outputs": [
        {
          "output_type": "stream",
          "name": "stdout",
          "text": [
            "Shape: (569, 32)\n",
            "\n",
            "Column names:\n",
            " ['id', 'diagnosis', 'radius_mean', 'texture_mean', 'perimeter_mean', 'area_mean', 'smoothness_mean', 'compactness_mean', 'concavity_mean', 'concave points_mean', 'symmetry_mean', 'fractal_dimension_mean', 'radius_se', 'texture_se', 'perimeter_se', 'area_se', 'smoothness_se', 'compactness_se', 'concavity_se', 'concave points_se', 'symmetry_se', 'fractal_dimension_se', 'radius_worst', 'texture_worst', 'perimeter_worst', 'area_worst', 'smoothness_worst', 'compactness_worst', 'concavity_worst', 'concave points_worst', 'symmetry_worst', 'fractal_dimension_worst']\n",
            "\n",
            "First 5 rows:\n",
            "          id diagnosis  radius_mean  texture_mean  perimeter_mean  area_mean  \\\n",
            "0    842302         M        17.99         10.38          122.80     1001.0   \n",
            "1    842517         M        20.57         17.77          132.90     1326.0   \n",
            "2  84300903         M        19.69         21.25          130.00     1203.0   \n",
            "3  84348301         M        11.42         20.38           77.58      386.1   \n",
            "4  84358402         M        20.29         14.34          135.10     1297.0   \n",
            "\n",
            "   smoothness_mean  compactness_mean  concavity_mean  concave points_mean  \\\n",
            "0          0.11840           0.27760          0.3001              0.14710   \n",
            "1          0.08474           0.07864          0.0869              0.07017   \n",
            "2          0.10960           0.15990          0.1974              0.12790   \n",
            "3          0.14250           0.28390          0.2414              0.10520   \n",
            "4          0.10030           0.13280          0.1980              0.10430   \n",
            "\n",
            "   ...  radius_worst  texture_worst  perimeter_worst  area_worst  \\\n",
            "0  ...         25.38          17.33           184.60      2019.0   \n",
            "1  ...         24.99          23.41           158.80      1956.0   \n",
            "2  ...         23.57          25.53           152.50      1709.0   \n",
            "3  ...         14.91          26.50            98.87       567.7   \n",
            "4  ...         22.54          16.67           152.20      1575.0   \n",
            "\n",
            "   smoothness_worst  compactness_worst  concavity_worst  concave points_worst  \\\n",
            "0            0.1622             0.6656           0.7119                0.2654   \n",
            "1            0.1238             0.1866           0.2416                0.1860   \n",
            "2            0.1444             0.4245           0.4504                0.2430   \n",
            "3            0.2098             0.8663           0.6869                0.2575   \n",
            "4            0.1374             0.2050           0.4000                0.1625   \n",
            "\n",
            "   symmetry_worst  fractal_dimension_worst  \n",
            "0          0.4601                  0.11890  \n",
            "1          0.2750                  0.08902  \n",
            "2          0.3613                  0.08758  \n",
            "3          0.6638                  0.17300  \n",
            "4          0.2364                  0.07678  \n",
            "\n",
            "[5 rows x 32 columns]\n",
            "\n",
            "Missing values per column:\n",
            " id                         0\n",
            "diagnosis                  0\n",
            "radius_mean                0\n",
            "texture_mean               0\n",
            "perimeter_mean             0\n",
            "area_mean                  0\n",
            "smoothness_mean            0\n",
            "compactness_mean           0\n",
            "concavity_mean             0\n",
            "concave points_mean        0\n",
            "symmetry_mean              0\n",
            "fractal_dimension_mean     0\n",
            "radius_se                  0\n",
            "texture_se                 0\n",
            "perimeter_se               0\n",
            "area_se                    0\n",
            "smoothness_se              0\n",
            "compactness_se             0\n",
            "concavity_se               0\n",
            "concave points_se          0\n",
            "symmetry_se                0\n",
            "fractal_dimension_se       0\n",
            "radius_worst               0\n",
            "texture_worst              0\n",
            "perimeter_worst            0\n",
            "area_worst                 0\n",
            "smoothness_worst           0\n",
            "compactness_worst          0\n",
            "concavity_worst            0\n",
            "concave points_worst       0\n",
            "symmetry_worst             0\n",
            "fractal_dimension_worst    0\n",
            "dtype: int64\n"
          ]
        }
      ]
    },
    {
      "cell_type": "markdown",
      "source": [
        "1. Comparing Single vs. Ensemble Classifiers\n",
        "Task:\n",
        "Write a program that demonstrates the advantage of ensemble learning compared to a\n",
        "single classifier.\n",
        "Apply a Decision Tree and a Random Forest (RF) classifier on a given dataset.\n",
        "Compare their performance using evaluation metrics such as accuracy, precision, recall,\n",
        "and F1-score.\n",
        "Explore the effect of changing the number of estimators (decision trees) in Random\n",
        "Forest. Write clear observations with justification.\n",
        "Intermediate Questions:\n",
        " - What differences do you observe between the Decision Tree and Random Forest\n",
        "results?\n",
        " - How does increasing the number of estimators affect performance and stability?\n",
        " - Why does Random Forest generally perform better than a single Decision Tree?"
      ],
      "metadata": {
        "id": "QzN_yWfAAswh"
      }
    },
    {
      "cell_type": "markdown",
      "source": [
        " explanations for each step:\n",
        "\n",
        "Load dataset & prepare features/labels: Drop id and convert diagnosis to numbers.\n",
        "\n",
        "Train/test split: Keep 80% data for training and 20% for testing.\n",
        "\n",
        "Decision Tree: Simple tree-based model; easy to overfit.\n",
        "\n",
        "Random Forest: Ensemble of many trees; reduces overfitting and improves accuracy.\n",
        "\n",
        "Evaluation: Compare accuracy, precision, recall, and F1-score for both models.\n",
        "Performance improves rapidly at first when you increase n_estimators from a very small number (like 5 → 50).\n",
        "\n",
        "After a certain point (say 100 trees), adding more trees only slightly reduces variance, which often doesn’t affect accuracy noticeably on a clean dataset."
      ],
      "metadata": {
        "id": "x2LAOkCUBvIZ"
      }
    },
    {
      "cell_type": "code",
      "source": [
        "# Step 1: Import libraries\n",
        "import pandas as pd\n",
        "from sklearn.model_selection import train_test_split\n",
        "from sklearn.tree import DecisionTreeClassifier\n",
        "from sklearn.ensemble import RandomForestClassifier\n",
        "from sklearn.metrics import accuracy_score, precision_score, recall_score, f1_score\n",
        "\n",
        "# Step 2: Load the dataset\n",
        "data = pd.read_csv(\"/content/sample_data/breast-cancer.csv\")\n",
        "X = data.drop(columns=['id','diagnosis'])   # Features\n",
        "y = data['diagnosis'].map({'M':1,'B':0})    # Labels: M=1, B=0\n",
        "\n",
        "# Step 3: Split into train and test sets\n",
        "X_train, X_test, y_train, y_test = train_test_split(X, y, test_size=0.2, random_state=42)\n",
        "\n",
        "# Step 4: Train Decision Tree\n",
        "dt = DecisionTreeClassifier(random_state=42)\n",
        "dt.fit(X_train, y_train)\n",
        "y_pred_dt = dt.predict(X_test)\n",
        "\n",
        "# Step 5: Train Random Forest\n",
        "rf = RandomForestClassifier(n_estimators=5, random_state=42)  # Try changing n_estimators\n",
        "rf.fit(X_train, y_train)\n",
        "y_pred_rf = rf.predict(X_test)\n",
        "\n",
        "# Step 6: Compare performance\n",
        "for model, y_pred in zip(['Decision Tree', 'Random Forest'], [y_pred_dt, y_pred_rf]):\n",
        "    print(f\"\\n{model} Performance:\")\n",
        "    print(\"Accuracy:\", round(accuracy_score(y_test, y_pred),3))\n",
        "    print(\"Precision:\", round(precision_score(y_test, y_pred),3))\n",
        "    print(\"Recall:\", round(recall_score(y_test, y_pred),3))\n",
        "    print(\"F1-score:\", round(f1_score(y_test, y_pred),3))\n"
      ],
      "metadata": {
        "colab": {
          "base_uri": "https://localhost:8080/"
        },
        "id": "_k2WgUuaBzSJ",
        "outputId": "ca366f50-73a7-4f50-a88f-d567fc35f973"
      },
      "execution_count": null,
      "outputs": [
        {
          "output_type": "stream",
          "name": "stdout",
          "text": [
            "\n",
            "Decision Tree Performance:\n",
            "Accuracy: 0.947\n",
            "Precision: 0.93\n",
            "Recall: 0.93\n",
            "F1-score: 0.93\n",
            "\n",
            "Random Forest Performance:\n",
            "Accuracy: 0.947\n",
            "Precision: 0.93\n",
            "Recall: 0.93\n",
            "F1-score: 0.93\n"
          ]
        }
      ]
    },
    {
      "cell_type": "markdown",
      "source": [
        "2. Implementing Simple Ensemble Techniques\n",
        "Task:\n",
        "Write a program that demonstrates the use of simple ensemble techniques: Max Voting,\n",
        "Average Voting, and Weighted Average Voting (assign weights based on each model’s\n",
        "performance).\n",
        "Apply these techniques on a suitable dataset and compare results.\n",
        "Intermediate Questions:\n",
        " - How do the results vary between max voting, average voting, and weighted voting?\n",
        " - What is the role of weights in improving ensemble predictions?\n",
        " - Which base classifiers combine most effectively under each voting scheme?"
      ],
      "metadata": {
        "id": "PS4bgqiaCB4p"
      }
    },
    {
      "cell_type": "markdown",
      "source": [
        "LOAd dataset & prepare features/labels: Map M/B to 1/0.\n",
        "\n",
        "Train/test split: 80% training, 20% testing.\n",
        "\n",
        "Base classifiers: Decision Tree, Random Forest, Logistic Regression.\n",
        "\n",
        "Predictions & probabilities: Needed for average/weighted voting.\n",
        "\n",
        "Max Voting: Majority vote across models (0 or 1).\n",
        "\n",
        "Average Voting: Take average of predicted probabilities, round to 0/1.\n",
        "\n",
        "Weighted Voting: Assign higher weight to better-performing models; combine probabilities.\n",
        "\n",
        "Evaluation: Compare accuracy, precision, recall, F1-score for each ensemble"
      ],
      "metadata": {
        "id": "BJlXidqOCHr5"
      }
    },
    {
      "cell_type": "code",
      "source": [
        "# Step 1: Import libraries\n",
        "import pandas as pd\n",
        "import numpy as np\n",
        "from sklearn.model_selection import train_test_split\n",
        "from sklearn.tree import DecisionTreeClassifier\n",
        "from sklearn.ensemble import RandomForestClassifier\n",
        "from sklearn.linear_model import LogisticRegression\n",
        "from sklearn.metrics import accuracy_score, precision_score, recall_score, f1_score\n",
        "\n",
        "# Step 2: Load dataset\n",
        "data = pd.read_csv(\"/content/sample_data/breast-cancer.csv\")\n",
        "X = data.drop(columns=['id','diagnosis'])\n",
        "y = data['diagnosis'].map({'M':1,'B':0})\n",
        "\n",
        "# Step 3: Train/test split\n",
        "X_train, X_test, y_train, y_test = train_test_split(X, y, test_size=0.2, random_state=42)\n",
        "\n",
        "# Step 4: Train base classifiers\n",
        "dt = DecisionTreeClassifier(random_state=42)\n",
        "rf = RandomForestClassifier(n_estimators=100, random_state=42)\n",
        "lr = LogisticRegression(max_iter=1000, random_state=42)\n",
        "\n",
        "for model in [dt, rf, lr]:\n",
        "    model.fit(X_train, y_train)\n",
        "\n",
        "# Step 5: Get predictions/probabilities\n",
        "pred_dt = dt.predict(X_test)\n",
        "pred_rf = rf.predict(X_test)\n",
        "pred_lr = lr.predict(X_test)\n",
        "\n",
        "prob_dt = dt.predict_proba(X_test)[:,1]  # Probability of class 1\n",
        "prob_rf = rf.predict_proba(X_test)[:,1]\n",
        "prob_lr = lr.predict_proba(X_test)[:,1]\n",
        "\n",
        "# Step 6: Max Voting (majority vote)\n",
        "max_vote_pred = np.round((pred_dt + pred_rf + pred_lr)/3)  # 0 or 1\n",
        "\n",
        "# Step 7: Average Voting (simple average of probabilities)\n",
        "avg_vote_prob = (prob_dt + prob_rf + prob_lr)/3\n",
        "avg_vote_pred = np.round(avg_vote_prob)\n",
        "\n",
        "# Step 8: Weighted Voting (based on individual accuracy)\n",
        "# Compute weights (using training predictions)\n",
        "acc_dt = accuracy_score(y_test, pred_dt)\n",
        "acc_rf = accuracy_score(y_test, pred_rf)\n",
        "acc_lr = accuracy_score(y_test, pred_lr)\n",
        "\n",
        "weights = np.array([acc_dt, acc_rf, acc_lr])\n",
        "weighted_prob = (prob_dt*weights[0] + prob_rf*weights[1] + prob_lr*weights[2]) / weights.sum()\n",
        "weighted_pred = np.round(weighted_prob)\n",
        "\n",
        "# Step 9: Evaluate all ensembles\n",
        "for name, pred in zip(['Max Voting', 'Average Voting', 'Weighted Voting'],\n",
        "                      [max_vote_pred, avg_vote_pred, weighted_pred]):\n",
        "    print(f\"\\n{name} Performance:\")\n",
        "    print(\"Accuracy:\", round(accuracy_score(y_test, pred),3))\n",
        "    print(\"Precision:\", round(precision_score(y_test, pred),3))\n",
        "    print(\"Recall:\", round(recall_score(y_test, pred),3))\n",
        "    print(\"F1-score:\", round(f1_score(y_test, pred),3))\n"
      ],
      "metadata": {
        "colab": {
          "base_uri": "https://localhost:8080/"
        },
        "id": "3as4mvMaB6DR",
        "outputId": "3b90f4c1-1980-4a83-e25e-9ee402972adf"
      },
      "execution_count": null,
      "outputs": [
        {
          "output_type": "stream",
          "name": "stdout",
          "text": [
            "\n",
            "Max Voting Performance:\n",
            "Accuracy: 0.965\n",
            "Precision: 0.976\n",
            "Recall: 0.93\n",
            "F1-score: 0.952\n",
            "\n",
            "Average Voting Performance:\n",
            "Accuracy: 0.965\n",
            "Precision: 0.976\n",
            "Recall: 0.93\n",
            "F1-score: 0.952\n",
            "\n",
            "Weighted Voting Performance:\n",
            "Accuracy: 0.965\n",
            "Precision: 0.976\n",
            "Recall: 0.93\n",
            "F1-score: 0.952\n"
          ]
        },
        {
          "output_type": "stream",
          "name": "stderr",
          "text": [
            "/usr/local/lib/python3.12/dist-packages/sklearn/linear_model/_logistic.py:465: ConvergenceWarning: lbfgs failed to converge (status=1):\n",
            "STOP: TOTAL NO. OF ITERATIONS REACHED LIMIT.\n",
            "\n",
            "Increase the number of iterations (max_iter) or scale the data as shown in:\n",
            "    https://scikit-learn.org/stable/modules/preprocessing.html\n",
            "Please also refer to the documentation for alternative solver options:\n",
            "    https://scikit-learn.org/stable/modules/linear_model.html#logistic-regression\n",
            "  n_iter_i = _check_optimize_result(\n"
          ]
        }
      ]
    },
    {
      "cell_type": "markdown",
      "source": [
        "3. Hard Voting vs. Soft Voting Classifiers\n",
        "Task:\n",
        "Write a program to show the difference between Hard Voting and Soft Voting classifiers\n",
        "in ensemble learning using multiple base learners (e.g., Decision Tree, Logistic\n",
        "Regression, and KNN).\n",
        "Intermediate Questions:\n",
        " - What is the main difference in prediction mechanisms between hard and soft\n",
        "voting?\n",
        " - In which situations does soft voting outperform hard voting?\n",
        " - How does the probability calibration of base classifiers influence soft voting?"
      ],
      "metadata": {
        "id": "lGF8jt0lCVEp"
      }
    },
    {
      "cell_type": "markdown",
      "source": [
        "Load dataset & prepare features/labels: Map M/B to 1/0.\n",
        "\n",
        "Train/test split: 80% training, 20% testing.\n",
        "\n",
        "Base classifiers: Decision Tree, Logistic Regression, KNN.\n",
        "\n",
        "Hard Voting: Predicts the class label with majority vote.\n",
        "\n",
        "Soft Voting: Predicts the class with the highest average probability across models.\n",
        "\n",
        "Evaluation: Compare accuracy, precision, recall, F1-score."
      ],
      "metadata": {
        "id": "FRpspGPXCjTh"
      }
    },
    {
      "cell_type": "code",
      "source": [
        "# Step 1: Import libraries\n",
        "import pandas as pd\n",
        "from sklearn.model_selection import train_test_split\n",
        "from sklearn.tree import DecisionTreeClassifier\n",
        "from sklearn.linear_model import LogisticRegression\n",
        "from sklearn.neighbors import KNeighborsClassifier\n",
        "from sklearn.ensemble import VotingClassifier\n",
        "from sklearn.metrics import accuracy_score, precision_score, recall_score, f1_score\n",
        "\n",
        "# Step 2: Load dataset\n",
        "data = pd.read_csv(\"/content/sample_data/breast-cancer.csv\")\n",
        "X = data.drop(columns=['id','diagnosis'])\n",
        "y = data['diagnosis'].map({'M':1,'B':0})\n",
        "\n",
        "# Step 3: Split into train/test\n",
        "X_train, X_test, y_train, y_test = train_test_split(X, y, test_size=0.2, random_state=42)\n",
        "\n",
        "# Step 4: Define base classifiers\n",
        "dt = DecisionTreeClassifier(random_state=42)\n",
        "lr = LogisticRegression(max_iter=1000, random_state=42)\n",
        "knn = KNeighborsClassifier()\n",
        "\n",
        "# Step 5: Hard Voting Classifier (majority vote)\n",
        "hard_voting = VotingClassifier(\n",
        "    estimators=[('dt', dt), ('lr', lr), ('knn', knn)],\n",
        "    voting='hard'  # uses predicted class labels\n",
        ")\n",
        "hard_voting.fit(X_train, y_train)\n",
        "y_pred_hard = hard_voting.predict(X_test)\n",
        "\n",
        "# Step 6: Soft Voting Classifier (average probabilities)\n",
        "soft_voting = VotingClassifier(\n",
        "    estimators=[('dt', dt), ('lr', lr), ('knn', knn)],\n",
        "    voting='soft'  # uses predicted probabilities\n",
        ")\n",
        "soft_voting.fit(X_train, y_train)\n",
        "y_pred_soft = soft_voting.predict(X_test)\n",
        "\n",
        "# Step 7: Evaluate both\n",
        "for name, pred in zip(['Hard Voting', 'Soft Voting'], [y_pred_hard, y_pred_soft]):\n",
        "    print(f\"\\n{name} Performance:\")\n",
        "    print(\"Accuracy:\", round(accuracy_score(y_test, pred),3))\n",
        "    print(\"Precision:\", round(precision_score(y_test, pred),3))\n",
        "    print(\"Recall:\", round(recall_score(y_test, pred),3))\n",
        "    print(\"F1-score:\", round(f1_score(y_test, pred),3))\n"
      ],
      "metadata": {
        "colab": {
          "base_uri": "https://localhost:8080/"
        },
        "id": "W8l-w-gFCj0J",
        "outputId": "8da5a1ac-8497-472a-c109-fc66a29ebbaa"
      },
      "execution_count": null,
      "outputs": [
        {
          "output_type": "stream",
          "name": "stderr",
          "text": [
            "/usr/local/lib/python3.12/dist-packages/sklearn/linear_model/_logistic.py:465: ConvergenceWarning: lbfgs failed to converge (status=1):\n",
            "STOP: TOTAL NO. OF ITERATIONS REACHED LIMIT.\n",
            "\n",
            "Increase the number of iterations (max_iter) or scale the data as shown in:\n",
            "    https://scikit-learn.org/stable/modules/preprocessing.html\n",
            "Please also refer to the documentation for alternative solver options:\n",
            "    https://scikit-learn.org/stable/modules/linear_model.html#logistic-regression\n",
            "  n_iter_i = _check_optimize_result(\n"
          ]
        },
        {
          "output_type": "stream",
          "name": "stdout",
          "text": [
            "\n",
            "Hard Voting Performance:\n",
            "Accuracy: 0.965\n",
            "Precision: 1.0\n",
            "Recall: 0.907\n",
            "F1-score: 0.951\n",
            "\n",
            "Soft Voting Performance:\n",
            "Accuracy: 0.974\n",
            "Precision: 1.0\n",
            "Recall: 0.93\n",
            "F1-score: 0.964\n"
          ]
        },
        {
          "output_type": "stream",
          "name": "stderr",
          "text": [
            "/usr/local/lib/python3.12/dist-packages/sklearn/linear_model/_logistic.py:465: ConvergenceWarning: lbfgs failed to converge (status=1):\n",
            "STOP: TOTAL NO. OF ITERATIONS REACHED LIMIT.\n",
            "\n",
            "Increase the number of iterations (max_iter) or scale the data as shown in:\n",
            "    https://scikit-learn.org/stable/modules/preprocessing.html\n",
            "Please also refer to the documentation for alternative solver options:\n",
            "    https://scikit-learn.org/stable/modules/linear_model.html#logistic-regression\n",
            "  n_iter_i = _check_optimize_result(\n"
          ]
        }
      ]
    },
    {
      "cell_type": "markdown",
      "source": [
        "4. Exploring Bagging Technique (Random Forest)\n",
        "Task:\n",
        "Write a program to explore the Bagging technique using the RandomForestClassifier on a\n",
        "suitable dataset.\n",
        "Experiment with parameters such as number of estimators, maximum depth, and random\n",
        "state.\n",
        "Write detailed observations and justify the changes in model performance.\n",
        "Intermediate Questions:\n",
        " - How do different values of n_estimators and max_depth affect model performance?\n",
        " - What does Bagging achieve in terms of variance and bias reduction?\n",
        " - How does Random Forest handle overfitting compared to a single Decision Tree?"
      ],
      "metadata": {
        "id": "gWUh4YspCoGZ"
      }
    },
    {
      "cell_type": "markdown",
      "source": [
        "Load dataset & prepare features/labels: Map diagnosis to 1/0.\n",
        "\n",
        "Train/test split: 80% training, 20% testing.\n",
        "\n",
        "Random Forest experiments: Change n_estimators (number of trees) and max_depth (depth of trees).\n",
        "\n",
        "Evaluate: Accuracy, precision, recall, F1-score for each setting."
      ],
      "metadata": {
        "id": "OklVW_AACqPZ"
      }
    },
    {
      "cell_type": "code",
      "source": [
        "# Step 1: Import libraries\n",
        "import pandas as pd\n",
        "from sklearn.model_selection import train_test_split\n",
        "from sklearn.ensemble import RandomForestClassifier\n",
        "from sklearn.metrics import accuracy_score, precision_score, recall_score, f1_score\n",
        "\n",
        "# Step 2: Load dataset\n",
        "data = pd.read_csv(\"/content/sample_data/breast-cancer.csv\")\n",
        "X = data.drop(columns=['id','diagnosis'])\n",
        "y = data['diagnosis'].map({'M':1,'B':0})\n",
        "\n",
        "# Step 3: Split into train/test\n",
        "X_train, X_test, y_train, y_test = train_test_split(X, y, test_size=0.2, random_state=42)\n",
        "\n",
        "# Step 4: Experiment with different Random Forest parameters\n",
        "params = [\n",
        "    {'n_estimators': 10, 'max_depth': None},\n",
        "    {'n_estimators': 50, 'max_depth': None},\n",
        "    {'n_estimators': 100, 'max_depth': None},\n",
        "    {'n_estimators': 100, 'max_depth': 5},\n",
        "    {'n_estimators': 100, 'max_depth': 10}\n",
        "]\n",
        "\n",
        "for p in params:\n",
        "    rf = RandomForestClassifier(n_estimators=p['n_estimators'], max_depth=p['max_depth'], random_state=42)\n",
        "    rf.fit(X_train, y_train)\n",
        "    y_pred = rf.predict(X_test)\n",
        "\n",
        "    print(f\"\\nRandom Forest (n_estimators={p['n_estimators']}, max_depth={p['max_depth']}) Performance:\")\n",
        "    print(\"Accuracy:\", round(accuracy_score(y_test, y_pred),3))\n",
        "    print(\"Precision:\", round(precision_score(y_test, y_pred),3))\n",
        "    print(\"Recall:\", round(recall_score(y_test, y_pred),3))\n",
        "    print(\"F1-score:\", round(f1_score(y_test, y_pred),3))\n"
      ],
      "metadata": {
        "colab": {
          "base_uri": "https://localhost:8080/"
        },
        "id": "2THK4VA6C1Nh",
        "outputId": "0c215775-d269-4f18-af0b-7dd6992cfc89"
      },
      "execution_count": null,
      "outputs": [
        {
          "output_type": "stream",
          "name": "stdout",
          "text": [
            "\n",
            "Random Forest (n_estimators=10, max_depth=None) Performance:\n",
            "Accuracy: 0.956\n",
            "Precision: 0.952\n",
            "Recall: 0.93\n",
            "F1-score: 0.941\n",
            "\n",
            "Random Forest (n_estimators=50, max_depth=None) Performance:\n",
            "Accuracy: 0.965\n",
            "Precision: 0.976\n",
            "Recall: 0.93\n",
            "F1-score: 0.952\n",
            "\n",
            "Random Forest (n_estimators=100, max_depth=None) Performance:\n",
            "Accuracy: 0.965\n",
            "Precision: 0.976\n",
            "Recall: 0.93\n",
            "F1-score: 0.952\n",
            "\n",
            "Random Forest (n_estimators=100, max_depth=5) Performance:\n",
            "Accuracy: 0.965\n",
            "Precision: 0.976\n",
            "Recall: 0.93\n",
            "F1-score: 0.952\n",
            "\n",
            "Random Forest (n_estimators=100, max_depth=10) Performance:\n",
            "Accuracy: 0.965\n",
            "Precision: 0.976\n",
            "Recall: 0.93\n",
            "F1-score: 0.952\n"
          ]
        }
      ]
    },
    {
      "cell_type": "markdown",
      "source": [
        "5. Using RandomForestRegressor and OOB Score\n",
        "Task:\n",
        "Write a program using the RandomForestRegressor model to make predictions on a\n",
        "suitable regression dataset.\n",
        "Enable and observe the oob_score (Out-of-Bag score) parameter.\n",
        "Interpret the results and explain its significance.\n",
        "Intermediate Questions:\n",
        " - What does the oob_score_ indicate about model performance?\n",
        " - How does Out-of-Bag evaluation differ from traditional test-set evaluation?\n",
        " - How does the OOB score change with different numbers of trees?"
      ],
      "metadata": {
        "id": "qsgaC8CMC30x"
      }
    },
    {
      "cell_type": "markdown",
      "source": [
        "\n",
        "Steps:\n",
        "\n",
        "Use a dataset (like California Housing).\n",
        "\n",
        "Split into training and test sets.\n",
        "\n",
        "Create a RandomForestRegressor with oob_score=True.\n",
        "\n",
        "Train the model.\n",
        "\n",
        "Print OOB score and test score.\n",
        "\n",
        "Try with different number of trees and see how OOB score changes.\n",
        "\n",
        "\n"
      ],
      "metadata": {
        "id": "MX4wBAsWC3hx"
      }
    },
    {
      "cell_type": "code",
      "source": [
        "# Task 5: RandomForestRegressor with OOB score\n",
        "\n",
        "from sklearn.datasets import fetch_california_housing\n",
        "from sklearn.ensemble import RandomForestRegressor\n",
        "from sklearn.model_selection import train_test_split\n",
        "from sklearn.metrics import mean_squared_error\n",
        "\n",
        "# Load dataset\n",
        "data = fetch_california_housing()\n",
        "X, y = data.data, data.target\n",
        "\n",
        "# Split into train and test sets\n",
        "X_train, X_test, y_train, y_test = train_test_split(X, y, random_state=42)\n",
        "\n",
        "# Create RandomForestRegressor with oob_score=True\n",
        "model = RandomForestRegressor(n_estimators=100, oob_score=True, random_state=42)\n",
        "\n",
        "# Train model\n",
        "model.fit(X_train, y_train)\n",
        "\n",
        "# Print OOB score\n",
        "print(\"OOB Score (R^2):\", model.oob_score_)\n",
        "\n",
        "# Predict on test set\n",
        "y_pred = model.predict(X_test)\n",
        "test_score = model.score(X_test, y_test)\n",
        "print(\"Test set R^2 score:\", test_score)\n",
        "\n",
        "# Try with different number of trees\n",
        "for n in [10, 50, 100, 200]:\n",
        "    model = RandomForestRegressor(n_estimators=n, oob_score=True, random_state=42)\n",
        "    model.fit(X_train, y_train)\n",
        "    print(f\"Trees: {n}, OOB Score: {model.oob_score_:.4f}\")\n"
      ],
      "metadata": {
        "id": "_SA-jzLrD78h",
        "colab": {
          "base_uri": "https://localhost:8080/"
        },
        "outputId": "d211e1a2-e501-4224-c4cb-b0682f34f3ae"
      },
      "execution_count": 1,
      "outputs": [
        {
          "output_type": "stream",
          "name": "stdout",
          "text": [
            "OOB Score (R^2): 0.8035286949244751\n",
            "Test set R^2 score: 0.8078655075367563\n"
          ]
        },
        {
          "output_type": "stream",
          "name": "stderr",
          "text": [
            "/usr/local/lib/python3.12/dist-packages/sklearn/ensemble/_forest.py:612: UserWarning: Some inputs do not have OOB scores. This probably means too few trees were used to compute any reliable OOB estimates.\n",
            "  warn(\n"
          ]
        },
        {
          "output_type": "stream",
          "name": "stdout",
          "text": [
            "Trees: 10, OOB Score: 0.6909\n",
            "Trees: 50, OOB Score: 0.7981\n",
            "Trees: 100, OOB Score: 0.8035\n",
            "Trees: 200, OOB Score: 0.8080\n"
          ]
        }
      ]
    },
    {
      "cell_type": "markdown",
      "source": [
        "6. Exploring Boosting Techniques\n",
        "Task:\n",
        "Write a program to explore different Boosting techniques using suitable datasets:\n",
        "Adaptive Boosting (AdaBoost) – binary classification,\n",
        "Gradient Boosting – classification and regression,\n",
        "XGBoost,\n",
        "CatBoost.\n",
        "Write your observations for each model, highlighting how it improves over the previous\n",
        "iterations and corrects earlier errors."
      ],
      "metadata": {
        "id": "Cg2EIP8VGWbc"
      }
    },
    {
      "cell_type": "markdown",
      "source": [
        "Use a classification dataset (like breast cancer).\n",
        "\n",
        "Train these models one by one:\n",
        "\n",
        "AdaBoost\n",
        "\n",
        "Gradient Boosting\n",
        "\n",
        "XGBoost\n",
        "\n",
        "CatBoost\n",
        "\n",
        "Print accuracy and training time for each.\n",
        "\n",
        "Compare how each one performs."
      ],
      "metadata": {
        "id": "0U4yGlFRGfvL"
      }
    },
    {
      "cell_type": "code",
      "source": [
        "# Task 6: Explore AdaBoost, Gradient Boosting, XGBoost, CatBoost\n",
        "\n",
        "from sklearn.datasets import load_breast_cancer\n",
        "from sklearn.model_selection import train_test_split\n",
        "from sklearn.metrics import accuracy_score\n",
        "from sklearn.ensemble import AdaBoostClassifier, GradientBoostingClassifier\n",
        "import time\n",
        "\n",
        "# Import XGBoost and CatBoost\n",
        "!pip install xgboost catboost -q\n",
        "from xgboost import XGBClassifier\n",
        "from catboost import CatBoostClassifier\n",
        "\n",
        "# Load dataset\n",
        "data = load_breast_cancer()\n",
        "X, y = data.data, data.target\n",
        "\n",
        "# Split\n",
        "X_train, X_test, y_train, y_test = train_test_split(X, y, random_state=42)\n",
        "\n",
        "def train_and_evaluate(model, name):\n",
        "    start = time.time()\n",
        "    model.fit(X_train, y_train)\n",
        "    end = time.time()\n",
        "    y_pred = model.predict(X_test)\n",
        "    acc = accuracy_score(y_test, y_pred)\n",
        "    print(f\"{name}: Accuracy={acc:.4f}, Training time={end - start:.2f} sec\")\n",
        "\n",
        "# AdaBoost\n",
        "ada = AdaBoostClassifier(n_estimators=50, random_state=42)\n",
        "train_and_evaluate(ada, \"AdaBoost\")\n",
        "\n",
        "# Gradient Boosting\n",
        "gb = GradientBoostingClassifier(n_estimators=50, random_state=42)\n",
        "train_and_evaluate(gb, \"Gradient Boosting\")\n",
        "\n",
        "# XGBoost\n",
        "xgb = XGBClassifier(use_label_encoder=False, eval_metric='logloss', random_state=42)\n",
        "train_and_evaluate(xgb, \"XGBoost\")\n",
        "\n",
        "# CatBoost\n",
        "cat = CatBoostClassifier(verbose=0, random_state=42)\n",
        "train_and_evaluate(cat, \"CatBoost\")\n"
      ],
      "metadata": {
        "id": "DVVZGPcWC3KZ",
        "colab": {
          "base_uri": "https://localhost:8080/"
        },
        "outputId": "b837cb16-b60b-4359-9f5f-0170fc72998a"
      },
      "execution_count": 2,
      "outputs": [
        {
          "output_type": "stream",
          "name": "stdout",
          "text": [
            "\u001b[2K   \u001b[90m━━━━━━━━━━━━━━━━━━━━━━━━━━━━━━━━━━━━━━━━\u001b[0m \u001b[32m99.2/99.2 MB\u001b[0m \u001b[31m8.8 MB/s\u001b[0m eta \u001b[36m0:00:00\u001b[0m\n",
            "\u001b[?25hAdaBoost: Accuracy=0.9580, Training time=0.25 sec\n",
            "Gradient Boosting: Accuracy=0.9580, Training time=0.45 sec\n",
            "XGBoost: Accuracy=0.9650, Training time=0.12 sec\n"
          ]
        },
        {
          "output_type": "stream",
          "name": "stderr",
          "text": [
            "/usr/local/lib/python3.12/dist-packages/xgboost/training.py:183: UserWarning: [04:30:14] WARNING: /workspace/src/learner.cc:738: \n",
            "Parameters: { \"use_label_encoder\" } are not used.\n",
            "\n",
            "  bst.update(dtrain, iteration=i, fobj=obj)\n"
          ]
        },
        {
          "output_type": "stream",
          "name": "stdout",
          "text": [
            "CatBoost: Accuracy=0.9790, Training time=11.52 sec\n"
          ]
        }
      ]
    },
    {
      "cell_type": "markdown",
      "source": [
        "7. Comparative Study of Ensemble Models\n",
        "Task:\n",
        "Apply all ensemble models (Bagging, Random Forest, AdaBoost, Gradient Boosting,\n",
        "XGBoost, and CatBoost) on the same dataset.\n",
        "Prepare a detailed report comparing their results based on accuracy, training time, model\n",
        "interpretability, and overfitting/underfitting behavior."
      ],
      "metadata": {
        "id": "w08Yb8ZWGi6J"
      }
    },
    {
      "cell_type": "markdown",
      "source": [
        "Use the same dataset.\n",
        "\n",
        "Train the following models:\n",
        "\n",
        "Bagging\n",
        "\n",
        "Random Forest\n",
        "\n",
        "AdaBoost\n",
        "\n",
        "Gradient Boosting\n",
        "\n",
        "XGBoost\n",
        "\n",
        "CatBoost\n",
        "\n",
        "Print accuracy, training time.\n",
        "\n",
        "Compare all results in a table."
      ],
      "metadata": {
        "id": "rwMeYFNSGpCD"
      }
    },
    {
      "cell_type": "code",
      "source": [
        "# Task 7: Compare Bagging, Random Forest, AdaBoost, Gradient Boosting, XGBoost, CatBoost\n",
        "\n",
        "from sklearn.ensemble import BaggingClassifier, RandomForestClassifier\n",
        "from sklearn.datasets import load_breast_cancer\n",
        "from sklearn.model_selection import train_test_split\n",
        "from sklearn.metrics import accuracy_score\n",
        "import time\n",
        "\n",
        "!pip install xgboost catboost -q\n",
        "from xgboost import XGBClassifier\n",
        "from catboost import CatBoostClassifier\n",
        "\n",
        "# Load data\n",
        "data = load_breast_cancer()\n",
        "X, y = data.data, data.target\n",
        "X_train, X_test, y_train, y_test = train_test_split(X, y, random_state=42)\n",
        "\n",
        "models = {\n",
        "    \"Bagging\": BaggingClassifier(n_estimators=50, random_state=42),\n",
        "    \"Random Forest\": RandomForestClassifier(n_estimators=100, random_state=42),\n",
        "    \"AdaBoost\": AdaBoostClassifier(n_estimators=50, random_state=42),\n",
        "    \"Gradient Boosting\": GradientBoostingClassifier(n_estimators=50, random_state=42),\n",
        "    \"XGBoost\": XGBClassifier(use_label_encoder=False, eval_metric='logloss', random_state=42),\n",
        "    \"CatBoost\": CatBoostClassifier(verbose=0, random_state=42)\n",
        "}\n",
        "\n",
        "print(f\"{'Model':<20} {'Accuracy':<10} {'Train Time (s)':<15}\")\n",
        "print(\"-\" * 50)\n",
        "\n",
        "for name, model in models.items():\n",
        "    start = time.time()\n",
        "    model.fit(X_train, y_train)\n",
        "    end = time.time()\n",
        "    y_pred = model.predict(X_test)\n",
        "    acc = accuracy_score(y_test, y_pred)\n",
        "    print(f\"{name:<20} {acc:<10.4f} {end - start:<15.2f}\")\n"
      ],
      "metadata": {
        "colab": {
          "base_uri": "https://localhost:8080/"
        },
        "id": "cwcY1WNFGuaV",
        "outputId": "ad6ed5db-16d2-417d-ea36-1684ddec65cf"
      },
      "execution_count": 3,
      "outputs": [
        {
          "output_type": "stream",
          "name": "stdout",
          "text": [
            "Model                Accuracy   Train Time (s) \n",
            "--------------------------------------------------\n",
            "Bagging              0.9580     0.96           \n",
            "Random Forest        0.9650     0.78           \n",
            "AdaBoost             0.9580     0.58           \n",
            "Gradient Boosting    0.9580     0.86           \n"
          ]
        },
        {
          "output_type": "stream",
          "name": "stderr",
          "text": [
            "/usr/local/lib/python3.12/dist-packages/xgboost/training.py:183: UserWarning: [04:30:42] WARNING: /workspace/src/learner.cc:738: \n",
            "Parameters: { \"use_label_encoder\" } are not used.\n",
            "\n",
            "  bst.update(dtrain, iteration=i, fobj=obj)\n"
          ]
        },
        {
          "output_type": "stream",
          "name": "stdout",
          "text": [
            "XGBoost              0.9650     0.27           \n",
            "CatBoost             0.9790     15.55          \n"
          ]
        }
      ]
    },
    {
      "cell_type": "markdown",
      "source": [
        "8. Visualizing the Ensemble models  \n",
        " Visualize decision boundaries of ensemble models.\n",
        " Compare ensemble performance under noisy or missing data.\n",
        " Analyze feature importance across different ensemble algorithms."
      ],
      "metadata": {
        "id": "6KKPfC9JGu8O"
      }
    },
    {
      "cell_type": "markdown",
      "source": [
        "Use a 2D dataset (like make_moons).\n",
        "\n",
        "Train ensemble models and plot their decision boundaries.\n",
        "\n",
        "Check model performance with noise or missing values.\n",
        "\n",
        "Show feature importances."
      ],
      "metadata": {
        "id": "JPFZ0m58GyW1"
      }
    },
    {
      "cell_type": "code",
      "source": [
        "# Task 8: Visualize decision boundaries, noise effect, feature importance\n",
        "\n",
        "import numpy as np\n",
        "import matplotlib.pyplot as plt\n",
        "from sklearn.datasets import make_moons\n",
        "from sklearn.ensemble import RandomForestClassifier, AdaBoostClassifier\n",
        "from sklearn.model_selection import train_test_split\n",
        "\n",
        "# Create 2D dataset\n",
        "X, y = make_moons(n_samples=300, noise=0.3, random_state=42)\n",
        "X_train, X_test, y_train, y_test = train_test_split(X, y, random_state=42)\n",
        "\n",
        "models = {\n",
        "    \"Random Forest\": RandomForestClassifier(n_estimators=50, random_state=42),\n",
        "    \"AdaBoost\": AdaBoostClassifier(n_estimators=50, random_state=42)\n",
        "}\n",
        "\n",
        "# Plot decision boundaries function\n",
        "def plot_decision_boundary(clf, X, y, ax):\n",
        "    x_min, x_max = X[:,0].min() - 1, X[:,0].max() + 1\n",
        "    y_min, y_max = X[:,1].min() - 1, X[:,1].max() + 1\n",
        "    xx, yy = np.meshgrid(np.linspace(x_min, x_max, 200),\n",
        "                         np.linspace(y_min, y_max, 200))\n",
        "    Z = clf.predict(np.c_[xx.ravel(), yy.ravel()])\n",
        "    Z = Z.reshape(xx.shape)\n",
        "    ax.contourf(xx, yy, Z, alpha=0.4)\n",
        "    ax.scatter(X[:,0], X[:,1], c=y, edgecolor='k')\n",
        "    ax.set_title(type(clf).__name__)\n",
        "\n",
        "fig, axs = plt.subplots(1, 2, figsize=(12,5))\n",
        "for ax, (name, model) in zip(axs, models.items()):\n",
        "    model.fit(X_train, y_train)\n",
        "    plot_decision_boundary(model, X_test, y_test, ax)\n",
        "plt.show()\n",
        "\n",
        "# Feature importance for Random Forest on make_moons (not very meaningful here but just for demo)\n",
        "rf = RandomForestClassifier(n_estimators=100, random_state=42)\n",
        "rf.fit(X_train, y_train)\n",
        "print(\"Feature Importances (Random Forest):\", rf.feature_importances_)\n"
      ],
      "metadata": {
        "colab": {
          "base_uri": "https://localhost:8080/",
          "height": 485
        },
        "id": "dW457yA4G2a4",
        "outputId": "ad326283-775b-48ba-c8fe-723a98c86c59"
      },
      "execution_count": 4,
      "outputs": [
        {
          "output_type": "display_data",
          "data": {
            "text/plain": [
              "<Figure size 1200x500 with 2 Axes>"
            ],
            "image/png": "[encoded data removed]"
          },
          "metadata": {}
        },
        {
          "output_type": "stream",
          "name": "stdout",
          "text": [
            "Feature Importances (Random Forest): [0.47237417 0.52762583]\n"
          ]
        }
      ]
    },
    {
      "cell_type": "markdown",
      "source": [
        "9.Task: Heterogeneous Ensemble (VotingClassifier)\n",
        "Write a program to build a Heterogeneous Ensemble, combining different types of\n",
        "classifiers such as Decision Tree, K-Nearest Neighbors, Logistic Regression, and\n",
        "Support Vector Machine (SVM) using a VotingClassifier.\n",
        "Compare the results with homogeneous ensembles."
      ],
      "metadata": {
        "id": "oQAHrjlkG2_U"
      }
    },
    {
      "cell_type": "markdown",
      "source": [
        "Use a classification dataset.\n",
        "\n",
        "Train different types of models: Decision Tree, KNN, SVM, Logistic Regression.\n",
        "\n",
        "Combine them using VotingClassifier.\n",
        "\n",
        "Compare to Random Forest or Bagging."
      ],
      "metadata": {
        "id": "e5y4yZivG8D7"
      }
    },
    {
      "cell_type": "code",
      "source": [
        "# Task 9: VotingClassifier with different models (heterogeneous ensemble)\n",
        "\n",
        "from sklearn.ensemble import VotingClassifier\n",
        "from sklearn.tree import DecisionTreeClassifier\n",
        "from sklearn.neighbors import KNeighborsClassifier\n",
        "from sklearn.linear_model import LogisticRegression\n",
        "from sklearn.svm import SVC\n",
        "from sklearn.datasets import load_iris\n",
        "from sklearn.model_selection import train_test_split\n",
        "from sklearn.metrics import accuracy_score\n",
        "\n",
        "# Load data\n",
        "data = load_iris()\n",
        "X, y = data.data, data.target\n",
        "\n",
        "X_train, X_test, y_train, y_test = train_test_split(X, y, random_state=42)\n",
        "\n",
        "# Create base models\n",
        "dt = DecisionTreeClassifier(random_state=42)\n",
        "knn = KNeighborsClassifier()\n",
        "lr = LogisticRegression(max_iter=200)\n",
        "svm = SVC(probability=True)  # probability=True needed for soft voting\n",
        "\n",
        "# Create Voting Classifier (hard voting)\n",
        "voting_hard = VotingClassifier(\n",
        "    estimators=[('dt', dt), ('knn', knn), ('lr', lr), ('svm', svm)],\n",
        "    voting='hard'\n",
        ")\n",
        "\n",
        "voting_hard.fit(X_train, y_train)\n",
        "y_pred = voting_hard.predict(X_test)\n",
        "print(\"VotingClassifier (hard) Accuracy:\", accuracy_score(y_test, y_pred))\n",
        "\n",
        "# Soft Voting\n",
        "voting_soft = VotingClassifier(\n",
        "    estimators=[('dt', dt), ('knn', knn), ('lr', lr), ('svm', svm)],\n",
        "    voting='soft'\n",
        ")\n",
        "\n",
        "voting_soft.fit(X_train, y_train)\n",
        "y_pred_soft = voting_soft.predict(X_test)\n",
        "print(\"VotingClassifier (soft) Accuracy:\", accuracy_score(y_test, y_pred_soft))\n"
      ],
      "metadata": {
        "colab": {
          "base_uri": "https://localhost:8080/"
        },
        "id": "Qa4JeU-FG-2L",
        "outputId": "98502a07-4c9e-4754-fdd2-fd1b9aaec92d"
      },
      "execution_count": 5,
      "outputs": [
        {
          "output_type": "stream",
          "name": "stdout",
          "text": [
            "VotingClassifier (hard) Accuracy: 1.0\n",
            "VotingClassifier (soft) Accuracy: 1.0\n"
          ]
        }
      ]
    },
    {
      "cell_type": "markdown",
      "source": [
        "10.  Homogeneous vs. Heterogeneous Ensembles – A Comparative Study\n",
        "Task:\n",
        "Apply both homogeneous and heterogeneous ensemble techniques (Bagging, Random\n",
        "Forest, Voting, Stacking) on the same dataset.\n",
        "Prepare a summary comparing their performance, computational complexity,\n",
        "interpretability, and robustness."
      ],
      "metadata": {
        "id": "5Vd-pzdxG_VM"
      }
    },
    {
      "cell_type": "markdown",
      "source": [
        "Use one dataset.\n",
        "\n",
        "Train homogeneous models (Bagging, Random Forest).\n",
        "\n",
        "Train heterogeneous models (VotingClassifier).\n",
        "\n",
        "Compare performance, time, interpretability."
      ],
      "metadata": {
        "id": "bvlns0liHPSc"
      }
    },
    {
      "cell_type": "code",
      "source": [
        "# Task 10: Compare homogeneous and heterogeneous ensembles\n",
        "\n",
        "from sklearn.ensemble import BaggingClassifier, RandomForestClassifier, VotingClassifier\n",
        "from sklearn.linear_model import LogisticRegression\n",
        "from sklearn.tree import DecisionTreeClassifier\n",
        "from sklearn.neighbors import KNeighborsClassifier\n",
        "from sklearn.svm import SVC\n",
        "from sklearn.datasets import load_breast_cancer\n",
        "from sklearn.model_selection import train_test_split\n",
        "from sklearn.metrics import accuracy_score\n",
        "import time\n",
        "\n",
        "# Load data\n",
        "data = load_breast_cancer()\n",
        "X, y = data.data, data.target\n",
        "\n",
        "X_train, X_test, y_train, y_test = train_test_split(X, y, random_state=42)\n",
        "\n",
        "# Homogeneous ensembles\n",
        "bagging = BaggingClassifier(n_estimators=50, random_state=42)\n",
        "rf = RandomForestClassifier(n_estimators=100, random_state=42)\n",
        "\n",
        "# Heterogeneous ensemble (VotingClassifier)\n",
        "dt = DecisionTreeClassifier(random_state=42)\n",
        "knn = KNeighborsClassifier()\n",
        "lr = LogisticRegression(max_iter=200)\n",
        "svm = SVC(probability=True)\n",
        "\n",
        "voting = VotingClassifier(\n",
        "    estimators=[('dt', dt), ('knn', knn), ('lr', lr), ('svm', svm)],\n",
        "    voting='soft'\n",
        ")\n",
        "\n",
        "models = {\n",
        "    \"Bagging\": bagging,\n",
        "    \"Random Forest\": rf,\n",
        "    \"Voting (Heterogeneous)\": voting\n",
        "}\n",
        "\n",
        "print(f\"{'Model':<25} {'Accuracy':<10} {'Train Time (s)':<15}\")\n",
        "print(\"-\"*50)\n",
        "\n",
        "for name, model in models.items():\n",
        "    start = time.time()\n",
        "    model.fit(X_train, y_train)\n",
        "    end = time.time()\n",
        "    y_pred = model.predict(X_test)\n",
        "    acc = accuracy_score(y_test, y_pred)\n",
        "    print(f\"{name:<25} {acc:<10.4f} {end - start:<15.2f}\")\n"
      ],
      "metadata": {
        "colab": {
          "base_uri": "https://localhost:8080/"
        },
        "id": "-zDj4m6OHXKS",
        "outputId": "f8521ec8-5bd4-460a-fc00-71e1462a7665"
      },
      "execution_count": 6,
      "outputs": [
        {
          "output_type": "stream",
          "name": "stdout",
          "text": [
            "Model                     Accuracy   Train Time (s) \n",
            "--------------------------------------------------\n",
            "Bagging                   0.9580     0.61           \n",
            "Random Forest             0.9650     0.45           \n",
            "Voting (Heterogeneous)    0.9720     0.09           \n"
          ]
        },
        {
          "output_type": "stream",
          "name": "stderr",
          "text": [
            "/usr/local/lib/python3.12/dist-packages/sklearn/linear_model/_logistic.py:465: ConvergenceWarning: lbfgs failed to converge (status=1):\n",
            "STOP: TOTAL NO. OF ITERATIONS REACHED LIMIT.\n",
            "\n",
            "Increase the number of iterations (max_iter) or scale the data as shown in:\n",
            "    https://scikit-learn.org/stable/modules/preprocessing.html\n",
            "Please also refer to the documentation for alternative solver options:\n",
            "    https://scikit-learn.org/stable/modules/linear_model.html#logistic-regression\n",
            "  n_iter_i = _check_optimize_result(\n"
          ]
        }
      ]
    }
  ]
}