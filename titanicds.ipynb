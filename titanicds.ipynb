{
  "nbformat": 4,
  "nbformat_minor": 0,
  "metadata": {
    "colab": {
      "provenance": [],
      "mount_file_id": "1gJyALa11DxxIoLc9r7cqaQUIJ-ZMvTaW",
      "authorship_tag": "ABX9TyNX3Q1LjMZJgHxzTMzY4C4c",
      "include_colab_link": true
    },
    "kernelspec": {
      "name": "python3",
      "display_name": "Python 3"
    },
    "language_info": {
      "name": "python"
    }
  },
  "cells": [
    {
      "cell_type": "markdown",
      "metadata": {
        "id": "view-in-github",
        "colab_type": "text"
      },
      "source": [
        "<a href=\"https://colab.research.google.com/github/harshitha3506/machine-learning/blob/main/titanicds.ipynb\" target=\"_parent\"><img src=\"https://colab.research.google.com/assets/colab-badge.svg\" alt=\"Open In Colab\"/></a>"
      ]
    },
    {
      "cell_type": "markdown",
      "source": [
        "1-4 titanic"
      ],
      "metadata": {
        "id": "Il5ShZN72kLm"
      }
    },
    {
      "cell_type": "code",
      "source": [
        "https://tinyurl.com/ML-2025-26"
      ],
      "metadata": {
        "id": "xX2BA_CJ2nD-"
      },
      "execution_count": null,
      "outputs": []
    },
    {
      "cell_type": "code",
      "execution_count": 4,
      "metadata": {
        "id": "2_tlxvoL4uXH"
      },
      "outputs": [],
      "source": [
        "import pandas as pd\n",
        "\n",
        "train = pd.read_csv('/content/titanic_train (1).csv')\n",
        "test = pd.read_csv('/content/titanic_test (1).csv')\n",
        "\n",
        "# Drop target column from test if present\n",
        "test.drop(columns=['Survived'], errors='ignore', inplace=True)\n",
        "\n",
        "# Combine datasets along rows\n",
        "combined = pd.concat([train, test], axis=0, ignore_index=True)\n"
      ]
    },
    {
      "cell_type": "code",
      "source": [
        "combined.info()\n",
        "combined.describe()\n",
        "combined.head()"
      ],
      "metadata": {
        "colab": {
          "base_uri": "https://localhost:8080/",
          "height": 536
        },
        "id": "Q4VP8PIs5c-d",
        "outputId": "23d03b0c-e732-4493-a746-58c0fb815a57"
      },
      "execution_count": 5,
      "outputs": [
        {
          "output_type": "stream",
          "name": "stdout",
          "text": [
            "<class 'pandas.core.frame.DataFrame'>\n",
            "RangeIndex: 1309 entries, 0 to 1308\n",
            "Data columns (total 12 columns):\n",
            " #   Column       Non-Null Count  Dtype  \n",
            "---  ------       --------------  -----  \n",
            " 0   PassengerId  1309 non-null   int64  \n",
            " 1   Survived     891 non-null    float64\n",
            " 2   Pclass       1309 non-null   int64  \n",
            " 3   Name         1309 non-null   object \n",
            " 4   Sex          1309 non-null   object \n",
            " 5   Age          1046 non-null   float64\n",
            " 6   SibSp        1309 non-null   int64  \n",
            " 7   Parch        1309 non-null   int64  \n",
            " 8   Ticket       1309 non-null   object \n",
            " 9   Fare         1308 non-null   float64\n",
            " 10  Cabin        295 non-null    object \n",
            " 11  Embarked     1307 non-null   object \n",
            "dtypes: float64(3), int64(4), object(5)\n",
            "memory usage: 122.8+ KB\n"
          ]
        },
        {
          "output_type": "execute_result",
          "data": {
            "text/plain": [
              "   PassengerId  Survived  Pclass  \\\n",
              "0            1       0.0       3   \n",
              "1            2       1.0       1   \n",
              "2            3       1.0       3   \n",
              "3            4       1.0       1   \n",
              "4            5       0.0       3   \n",
              "\n",
              "                                                Name     Sex   Age  SibSp  \\\n",
              "0                            Braund, Mr. Owen Harris    male  22.0      1   \n",
              "1  Cumings, Mrs. John Bradley (Florence Briggs Th...  female  38.0      1   \n",
              "2                             Heikkinen, Miss. Laina  female  26.0      0   \n",
              "3       Futrelle, Mrs. Jacques Heath (Lily May Peel)  female  35.0      1   \n",
              "4                           Allen, Mr. William Henry    male  35.0      0   \n",
              "\n",
              "   Parch            Ticket     Fare Cabin Embarked  \n",
              "0      0         A/5 21171   7.2500   NaN        S  \n",
              "1      0          PC 17599  71.2833   C85        C  \n",
              "2      0  STON/O2. 3101282   7.9250   NaN        S  \n",
              "3      0            113803  53.1000  C123        S  \n",
              "4      0            373450   8.0500   NaN        S  "
            ],
            "text/html": [
              "\n",
              "  <div id=\"df-a8d115be-5412-4bfe-86ba-6efbcc92a6e7\" class=\"colab-df-container\">\n",
              "    <div>\n",
              "<style scoped>\n",
              "    .dataframe tbody tr th:only-of-type {\n",
              "        vertical-align: middle;\n",
              "    }\n",
              "\n",
              "    .dataframe tbody tr th {\n",
              "        vertical-align: top;\n",
              "    }\n",
              "\n",
              "    .dataframe thead th {\n",
              "        text-align: right;\n",
              "    }\n",
              "</style>\n",
              "<table border=\"1\" class=\"dataframe\">\n",
              "  <thead>\n",
              "    <tr style=\"text-align: right;\">\n",
              "      <th></th>\n",
              "      <th>PassengerId</th>\n",
              "      <th>Survived</th>\n",
              "      <th>Pclass</th>\n",
              "      <th>Name</th>\n",
              "      <th>Sex</th>\n",
              "      <th>Age</th>\n",
              "      <th>SibSp</th>\n",
              "      <th>Parch</th>\n",
              "      <th>Ticket</th>\n",
              "      <th>Fare</th>\n",
              "      <th>Cabin</th>\n",
              "      <th>Embarked</th>\n",
              "    </tr>\n",
              "  </thead>\n",
              "  <tbody>\n",
              "    <tr>\n",
              "      <th>0</th>\n",
              "      <td>1</td>\n",
              "      <td>0.0</td>\n",
              "      <td>3</td>\n",
              "      <td>Braund, Mr. Owen Harris</td>\n",
              "      <td>male</td>\n",
              "      <td>22.0</td>\n",
              "      <td>1</td>\n",
              "      <td>0</td>\n",
              "      <td>A/5 21171</td>\n",
              "      <td>7.2500</td>\n",
              "      <td>NaN</td>\n",
              "      <td>S</td>\n",
              "    </tr>\n",
              "    <tr>\n",
              "      <th>1</th>\n",
              "      <td>2</td>\n",
              "      <td>1.0</td>\n",
              "      <td>1</td>\n",
              "      <td>Cumings, Mrs. John Bradley (Florence Briggs Th...</td>\n",
              "      <td>female</td>\n",
              "      <td>38.0</td>\n",
              "      <td>1</td>\n",
              "      <td>0</td>\n",
              "      <td>PC 17599</td>\n",
              "      <td>71.2833</td>\n",
              "      <td>C85</td>\n",
              "      <td>C</td>\n",
              "    </tr>\n",
              "    <tr>\n",
              "      <th>2</th>\n",
              "      <td>3</td>\n",
              "      <td>1.0</td>\n",
              "      <td>3</td>\n",
              "      <td>Heikkinen, Miss. Laina</td>\n",
              "      <td>female</td>\n",
              "      <td>26.0</td>\n",
              "      <td>0</td>\n",
              "      <td>0</td>\n",
              "      <td>STON/O2. 3101282</td>\n",
              "      <td>7.9250</td>\n",
              "      <td>NaN</td>\n",
              "      <td>S</td>\n",
              "    </tr>\n",
              "    <tr>\n",
              "      <th>3</th>\n",
              "      <td>4</td>\n",
              "      <td>1.0</td>\n",
              "      <td>1</td>\n",
              "      <td>Futrelle, Mrs. Jacques Heath (Lily May Peel)</td>\n",
              "      <td>female</td>\n",
              "      <td>35.0</td>\n",
              "      <td>1</td>\n",
              "      <td>0</td>\n",
              "      <td>113803</td>\n",
              "      <td>53.1000</td>\n",
              "      <td>C123</td>\n",
              "      <td>S</td>\n",
              "    </tr>\n",
              "    <tr>\n",
              "      <th>4</th>\n",
              "      <td>5</td>\n",
              "      <td>0.0</td>\n",
              "      <td>3</td>\n",
              "      <td>Allen, Mr. William Henry</td>\n",
              "      <td>male</td>\n",
              "      <td>35.0</td>\n",
              "      <td>0</td>\n",
              "      <td>0</td>\n",
              "      <td>373450</td>\n",
              "      <td>8.0500</td>\n",
              "      <td>NaN</td>\n",
              "      <td>S</td>\n",
              "    </tr>\n",
              "  </tbody>\n",
              "</table>\n",
              "</div>\n",
              "    <div class=\"colab-df-buttons\">\n",
              "\n",
              "  <div class=\"colab-df-container\">\n",
              "    <button class=\"colab-df-convert\" onclick=\"convertToInteractive('df-a8d115be-5412-4bfe-86ba-6efbcc92a6e7')\"\n",
              "            title=\"Convert this dataframe to an interactive table.\"\n",
              "            style=\"display:none;\">\n",
              "\n",
              "  <svg xmlns=\"http://www.w3.org/2000/svg\" height=\"24px\" viewBox=\"0 -960 960 960\">\n",
              "    <path d=\"M120-120v-720h720v720H120Zm60-500h600v-160H180v160Zm220 220h160v-160H400v160Zm0 220h160v-160H400v160ZM180-400h160v-160H180v160Zm440 0h160v-160H620v160ZM180-180h160v-160H180v160Zm440 0h160v-160H620v160Z\"/>\n",
              "  </svg>\n",
              "    </button>\n",
              "\n",
              "  <style>\n",
              "    .colab-df-container {\n",
              "      display:flex;\n",
              "      gap: 12px;\n",
              "    }\n",
              "\n",
              "    .colab-df-convert {\n",
              "      background-color: #E8F0FE;\n",
              "      border: none;\n",
              "      border-radius: 50%;\n",
              "      cursor: pointer;\n",
              "      display: none;\n",
              "      fill: #1967D2;\n",
              "      height: 32px;\n",
              "      padding: 0 0 0 0;\n",
              "      width: 32px;\n",
              "    }\n",
              "\n",
              "    .colab-df-convert:hover {\n",
              "      background-color: #E2EBFA;\n",
              "      box-shadow: 0px 1px 2px rgba(60, 64, 67, 0.3), 0px 1px 3px 1px rgba(60, 64, 67, 0.15);\n",
              "      fill: #174EA6;\n",
              "    }\n",
              "\n",
              "    .colab-df-buttons div {\n",
              "      margin-bottom: 4px;\n",
              "    }\n",
              "\n",
              "    [theme=dark] .colab-df-convert {\n",
              "      background-color: #3B4455;\n",
              "      fill: #D2E3FC;\n",
              "    }\n",
              "\n",
              "    [theme=dark] .colab-df-convert:hover {\n",
              "      background-color: #434B5C;\n",
              "      box-shadow: 0px 1px 3px 1px rgba(0, 0, 0, 0.15);\n",
              "      filter: drop-shadow(0px 1px 2px rgba(0, 0, 0, 0.3));\n",
              "      fill: #FFFFFF;\n",
              "    }\n",
              "  </style>\n",
              "\n",
              "    <script>\n",
              "      const buttonEl =\n",
              "        document.querySelector('#df-a8d115be-5412-4bfe-86ba-6efbcc92a6e7 button.colab-df-convert');\n",
              "      buttonEl.style.display =\n",
              "        google.colab.kernel.accessAllowed ? 'block' : 'none';\n",
              "\n",
              "      async function convertToInteractive(key) {\n",
              "        const element = document.querySelector('#df-a8d115be-5412-4bfe-86ba-6efbcc92a6e7');\n",
              "        const dataTable =\n",
              "          await google.colab.kernel.invokeFunction('convertToInteractive',\n",
              "                                                    [key], {});\n",
              "        if (!dataTable) return;\n",
              "\n",
              "        const docLinkHtml = 'Like what you see? Visit the ' +\n",
              "          '<a target=\"_blank\" href=https://colab.research.google.com/notebooks/data_table.ipynb>data table notebook</a>'\n",
              "          + ' to learn more about interactive tables.';\n",
              "        element.innerHTML = '';\n",
              "        dataTable['output_type'] = 'display_data';\n",
              "        await google.colab.output.renderOutput(dataTable, element);\n",
              "        const docLink = document.createElement('div');\n",
              "        docLink.innerHTML = docLinkHtml;\n",
              "        element.appendChild(docLink);\n",
              "      }\n",
              "    </script>\n",
              "  </div>\n",
              "\n",
              "\n",
              "    <div id=\"df-39016c4f-438a-47b0-a0c9-098a45ad6133\">\n",
              "      <button class=\"colab-df-quickchart\" onclick=\"quickchart('df-39016c4f-438a-47b0-a0c9-098a45ad6133')\"\n",
              "                title=\"Suggest charts\"\n",
              "                style=\"display:none;\">\n",
              "\n",
              "<svg xmlns=\"http://www.w3.org/2000/svg\" height=\"24px\"viewBox=\"0 0 24 24\"\n",
              "     width=\"24px\">\n",
              "    <g>\n",
              "        <path d=\"M19 3H5c-1.1 0-2 .9-2 2v14c0 1.1.9 2 2 2h14c1.1 0 2-.9 2-2V5c0-1.1-.9-2-2-2zM9 17H7v-7h2v7zm4 0h-2V7h2v10zm4 0h-2v-4h2v4z\"/>\n",
              "    </g>\n",
              "</svg>\n",
              "      </button>\n",
              "\n",
              "<style>\n",
              "  .colab-df-quickchart {\n",
              "      --bg-color: #E8F0FE;\n",
              "      --fill-color: #1967D2;\n",
              "      --hover-bg-color: #E2EBFA;\n",
              "      --hover-fill-color: #174EA6;\n",
              "      --disabled-fill-color: #AAA;\n",
              "      --disabled-bg-color: #DDD;\n",
              "  }\n",
              "\n",
              "  [theme=dark] .colab-df-quickchart {\n",
              "      --bg-color: #3B4455;\n",
              "      --fill-color: #D2E3FC;\n",
              "      --hover-bg-color: #434B5C;\n",
              "      --hover-fill-color: #FFFFFF;\n",
              "      --disabled-bg-color: #3B4455;\n",
              "      --disabled-fill-color: #666;\n",
              "  }\n",
              "\n",
              "  .colab-df-quickchart {\n",
              "    background-color: var(--bg-color);\n",
              "    border: none;\n",
              "    border-radius: 50%;\n",
              "    cursor: pointer;\n",
              "    display: none;\n",
              "    fill: var(--fill-color);\n",
              "    height: 32px;\n",
              "    padding: 0;\n",
              "    width: 32px;\n",
              "  }\n",
              "\n",
              "  .colab-df-quickchart:hover {\n",
              "    background-color: var(--hover-bg-color);\n",
              "    box-shadow: 0 1px 2px rgba(60, 64, 67, 0.3), 0 1px 3px 1px rgba(60, 64, 67, 0.15);\n",
              "    fill: var(--button-hover-fill-color);\n",
              "  }\n",
              "\n",
              "  .colab-df-quickchart-complete:disabled,\n",
              "  .colab-df-quickchart-complete:disabled:hover {\n",
              "    background-color: var(--disabled-bg-color);\n",
              "    fill: var(--disabled-fill-color);\n",
              "    box-shadow: none;\n",
              "  }\n",
              "\n",
              "  .colab-df-spinner {\n",
              "    border: 2px solid var(--fill-color);\n",
              "    border-color: transparent;\n",
              "    border-bottom-color: var(--fill-color);\n",
              "    animation:\n",
              "      spin 1s steps(1) infinite;\n",
              "  }\n",
              "\n",
              "  @keyframes spin {\n",
              "    0% {\n",
              "      border-color: transparent;\n",
              "      border-bottom-color: var(--fill-color);\n",
              "      border-left-color: var(--fill-color);\n",
              "    }\n",
              "    20% {\n",
              "      border-color: transparent;\n",
              "      border-left-color: var(--fill-color);\n",
              "      border-top-color: var(--fill-color);\n",
              "    }\n",
              "    30% {\n",
              "      border-color: transparent;\n",
              "      border-left-color: var(--fill-color);\n",
              "      border-top-color: var(--fill-color);\n",
              "      border-right-color: var(--fill-color);\n",
              "    }\n",
              "    40% {\n",
              "      border-color: transparent;\n",
              "      border-right-color: var(--fill-color);\n",
              "      border-top-color: var(--fill-color);\n",
              "    }\n",
              "    60% {\n",
              "      border-color: transparent;\n",
              "      border-right-color: var(--fill-color);\n",
              "    }\n",
              "    80% {\n",
              "      border-color: transparent;\n",
              "      border-right-color: var(--fill-color);\n",
              "      border-bottom-color: var(--fill-color);\n",
              "    }\n",
              "    90% {\n",
              "      border-color: transparent;\n",
              "      border-bottom-color: var(--fill-color);\n",
              "    }\n",
              "  }\n",
              "</style>\n",
              "\n",
              "      <script>\n",
              "        async function quickchart(key) {\n",
              "          const quickchartButtonEl =\n",
              "            document.querySelector('#' + key + ' button');\n",
              "          quickchartButtonEl.disabled = true;  // To prevent multiple clicks.\n",
              "          quickchartButtonEl.classList.add('colab-df-spinner');\n",
              "          try {\n",
              "            const charts = await google.colab.kernel.invokeFunction(\n",
              "                'suggestCharts', [key], {});\n",
              "          } catch (error) {\n",
              "            console.error('Error during call to suggestCharts:', error);\n",
              "          }\n",
              "          quickchartButtonEl.classList.remove('colab-df-spinner');\n",
              "          quickchartButtonEl.classList.add('colab-df-quickchart-complete');\n",
              "        }\n",
              "        (() => {\n",
              "          let quickchartButtonEl =\n",
              "            document.querySelector('#df-39016c4f-438a-47b0-a0c9-098a45ad6133 button');\n",
              "          quickchartButtonEl.style.display =\n",
              "            google.colab.kernel.accessAllowed ? 'block' : 'none';\n",
              "        })();\n",
              "      </script>\n",
              "    </div>\n",
              "\n",
              "    </div>\n",
              "  </div>\n"
            ],
            "application/vnd.google.colaboratory.intrinsic+json": {
              "type": "dataframe",
              "variable_name": "combined",
              "summary": "{\n  \"name\": \"combined\",\n  \"rows\": 1309,\n  \"fields\": [\n    {\n      \"column\": \"PassengerId\",\n      \"properties\": {\n        \"dtype\": \"number\",\n        \"std\": 378,\n        \"min\": 1,\n        \"max\": 1309,\n        \"num_unique_values\": 1309,\n        \"samples\": [\n          1149,\n          1050,\n          983\n        ],\n        \"semantic_type\": \"\",\n        \"description\": \"\"\n      }\n    },\n    {\n      \"column\": \"Survived\",\n      \"properties\": {\n        \"dtype\": \"number\",\n        \"std\": 0.4865924542648585,\n        \"min\": 0.0,\n        \"max\": 1.0,\n        \"num_unique_values\": 2,\n        \"samples\": [\n          1.0,\n          0.0\n        ],\n        \"semantic_type\": \"\",\n        \"description\": \"\"\n      }\n    },\n    {\n      \"column\": \"Pclass\",\n      \"properties\": {\n        \"dtype\": \"number\",\n        \"std\": 0,\n        \"min\": 1,\n        \"max\": 3,\n        \"num_unique_values\": 3,\n        \"samples\": [\n          3,\n          1\n        ],\n        \"semantic_type\": \"\",\n        \"description\": \"\"\n      }\n    },\n    {\n      \"column\": \"Name\",\n      \"properties\": {\n        \"dtype\": \"string\",\n        \"num_unique_values\": 1307,\n        \"samples\": [\n          \"Bryhl, Miss. Dagmar Jenny Ingeborg \",\n          \"Borebank, Mr. John James\"\n        ],\n        \"semantic_type\": \"\",\n        \"description\": \"\"\n      }\n    },\n    {\n      \"column\": \"Sex\",\n      \"properties\": {\n        \"dtype\": \"category\",\n        \"num_unique_values\": 2,\n        \"samples\": [\n          \"female\",\n          \"male\"\n        ],\n        \"semantic_type\": \"\",\n        \"description\": \"\"\n      }\n    },\n    {\n      \"column\": \"Age\",\n      \"properties\": {\n        \"dtype\": \"number\",\n        \"std\": 14.413493211271334,\n        \"min\": 0.17,\n        \"max\": 80.0,\n        \"num_unique_values\": 98,\n        \"samples\": [\n          45.5,\n          23.0\n        ],\n        \"semantic_type\": \"\",\n        \"description\": \"\"\n      }\n    },\n    {\n      \"column\": \"SibSp\",\n      \"properties\": {\n        \"dtype\": \"number\",\n        \"std\": 1,\n        \"min\": 0,\n        \"max\": 8,\n        \"num_unique_values\": 7,\n        \"samples\": [\n          1,\n          0\n        ],\n        \"semantic_type\": \"\",\n        \"description\": \"\"\n      }\n    },\n    {\n      \"column\": \"Parch\",\n      \"properties\": {\n        \"dtype\": \"number\",\n        \"std\": 0,\n        \"min\": 0,\n        \"max\": 9,\n        \"num_unique_values\": 8,\n        \"samples\": [\n          1,\n          4\n        ],\n        \"semantic_type\": \"\",\n        \"description\": \"\"\n      }\n    },\n    {\n      \"column\": \"Ticket\",\n      \"properties\": {\n        \"dtype\": \"string\",\n        \"num_unique_values\": 929,\n        \"samples\": [\n          \"PC 17531\",\n          \"345765\"\n        ],\n        \"semantic_type\": \"\",\n        \"description\": \"\"\n      }\n    },\n    {\n      \"column\": \"Fare\",\n      \"properties\": {\n        \"dtype\": \"number\",\n        \"std\": 51.75866823917414,\n        \"min\": 0.0,\n        \"max\": 512.3292,\n        \"num_unique_values\": 281,\n        \"samples\": [\n          11.2417,\n          35.0\n        ],\n        \"semantic_type\": \"\",\n        \"description\": \"\"\n      }\n    },\n    {\n      \"column\": \"Cabin\",\n      \"properties\": {\n        \"dtype\": \"category\",\n        \"num_unique_values\": 186,\n        \"samples\": [\n          \"B71\",\n          \"C51\"\n        ],\n        \"semantic_type\": \"\",\n        \"description\": \"\"\n      }\n    },\n    {\n      \"column\": \"Embarked\",\n      \"properties\": {\n        \"dtype\": \"category\",\n        \"num_unique_values\": 3,\n        \"samples\": [\n          \"S\",\n          \"C\"\n        ],\n        \"semantic_type\": \"\",\n        \"description\": \"\"\n      }\n    }\n  ]\n}"
            }
          },
          "metadata": {},
          "execution_count": 5
        }
      ]
    },
    {
      "cell_type": "code",
      "source": [
        "#add flags if needed\n",
        "combined['Age_missing'] = combined['Age'].isnull().astype(int)\n",
        "combined['Fare_missing'] = combined['Fare'].isnull().astype(int)"
      ],
      "metadata": {
        "id": "VoqBAHqo5gsF"
      },
      "execution_count": 6,
      "outputs": []
    },
    {
      "cell_type": "code",
      "source": [
        "#fill missing values\n",
        "combined['Age'].fillna(combined['Age'].median(), inplace=True)\n",
        "combined['Fare'].fillna(combined['Fare'].median(), inplace=True)\n",
        "combined['Embarked'].fillna(combined['Embarked'].mode()[0], inplace=True)\n"
      ],
      "metadata": {
        "colab": {
          "base_uri": "https://localhost:8080/"
        },
        "id": "7vgR-nop5mrZ",
        "outputId": "9643ce3c-3875-4ea0-f09c-df2bf82dc9dd"
      },
      "execution_count": 7,
      "outputs": [
        {
          "output_type": "stream",
          "name": "stderr",
          "text": [
            "/tmp/ipython-input-2442812532.py:2: FutureWarning: A value is trying to be set on a copy of a DataFrame or Series through chained assignment using an inplace method.\n",
            "The behavior will change in pandas 3.0. This inplace method will never work because the intermediate object on which we are setting values always behaves as a copy.\n",
            "\n",
            "For example, when doing 'df[col].method(value, inplace=True)', try using 'df.method({col: value}, inplace=True)' or df[col] = df[col].method(value) instead, to perform the operation inplace on the original object.\n",
            "\n",
            "\n",
            "  combined['Age'].fillna(combined['Age'].median(), inplace=True)\n",
            "/tmp/ipython-input-2442812532.py:3: FutureWarning: A value is trying to be set on a copy of a DataFrame or Series through chained assignment using an inplace method.\n",
            "The behavior will change in pandas 3.0. This inplace method will never work because the intermediate object on which we are setting values always behaves as a copy.\n",
            "\n",
            "For example, when doing 'df[col].method(value, inplace=True)', try using 'df.method({col: value}, inplace=True)' or df[col] = df[col].method(value) instead, to perform the operation inplace on the original object.\n",
            "\n",
            "\n",
            "  combined['Fare'].fillna(combined['Fare'].median(), inplace=True)\n",
            "/tmp/ipython-input-2442812532.py:4: FutureWarning: A value is trying to be set on a copy of a DataFrame or Series through chained assignment using an inplace method.\n",
            "The behavior will change in pandas 3.0. This inplace method will never work because the intermediate object on which we are setting values always behaves as a copy.\n",
            "\n",
            "For example, when doing 'df[col].method(value, inplace=True)', try using 'df.method({col: value}, inplace=True)' or df[col] = df[col].method(value) instead, to perform the operation inplace on the original object.\n",
            "\n",
            "\n",
            "  combined['Embarked'].fillna(combined['Embarked'].mode()[0], inplace=True)\n"
          ]
        }
      ]
    },
    {
      "cell_type": "code",
      "source": [
        "#encode categorical features\n",
        "combined = pd.get_dummies(combined, columns=['Sex', 'Embarked'], drop_first=True)\n"
      ],
      "metadata": {
        "id": "l-ZzLXuH5svC"
      },
      "execution_count": 8,
      "outputs": []
    },
    {
      "cell_type": "code",
      "source": [
        "#scale numerica for mi etc\n",
        "from sklearn.preprocessing import StandardScaler\n",
        "\n",
        "scaler = StandardScaler()\n",
        "combined[['Age', 'Fare']] = scaler.fit_transform(combined[['Age', 'Fare']])\n"
      ],
      "metadata": {
        "id": "_7UMlOUE5zac"
      },
      "execution_count": 9,
      "outputs": []
    },
    {
      "cell_type": "code",
      "source": [
        "#split combined to train and test again\n",
        "train_processed = combined.iloc[:len(train)]\n",
        "test_processed = combined.iloc[len(train):]\n"
      ],
      "metadata": {
        "id": "qLxYYf4p54ta"
      },
      "execution_count": 10,
      "outputs": []
    },
    {
      "cell_type": "code",
      "source": [
        "#Now you can separate X and y for train\n",
        "X = train_processed.drop(['Survived', 'PassengerId', 'Name', 'Ticket', 'Cabin'], axis=1, errors='ignore')\n",
        "y = train_processed['Survived']"
      ],
      "metadata": {
        "id": "qSAKos5PRZgi"
      },
      "execution_count": 11,
      "outputs": []
    },
    {
      "cell_type": "markdown",
      "source": [
        "feature selection filtermethods"
      ],
      "metadata": {
        "id": "arxUZOgo5_kz"
      }
    },
    {
      "cell_type": "code",
      "source": [
        "#constantfeatures\n",
        "from sklearn.feature_selection import VarianceThreshold\n",
        "\n",
        "# VarianceThreshold with 0 variance removes constant features\n",
        "constant_filter = VarianceThreshold(threshold=0)\n",
        "constant_filter.fit(X)\n",
        "\n",
        "constant_features = X.columns[~constant_filter.get_support()]\n",
        "print(\"Constant features:\", list(constant_features))\n"
      ],
      "metadata": {
        "colab": {
          "base_uri": "https://localhost:8080/"
        },
        "id": "i0ULwVaC6DRv",
        "outputId": "4e6b0f89-5dfe-42e1-88c1-03beea410398"
      },
      "execution_count": 12,
      "outputs": [
        {
          "output_type": "stream",
          "name": "stdout",
          "text": [
            "Constant features: ['Fare_missing']\n"
          ]
        }
      ]
    },
    {
      "cell_type": "code",
      "source": [
        "#quasi constant features\n",
        "# Remove features where > 99% of values are same\n",
        "quasi_constant_filter = VarianceThreshold(threshold=0.01)  # keep features with >1% variance\n",
        "quasi_constant_filter.fit(X)\n",
        "\n",
        "quasi_constant_features = X.columns[~quasi_constant_filter.get_support()]\n",
        "print(\"Quasi-constant features:\", list(quasi_constant_features))\n"
      ],
      "metadata": {
        "colab": {
          "base_uri": "https://localhost:8080/"
        },
        "id": "crq4SaNSaM9r",
        "outputId": "995c97ac-6ea3-4f4b-cbf8-f5834b65aa06"
      },
      "execution_count": 13,
      "outputs": [
        {
          "output_type": "stream",
          "name": "stdout",
          "text": [
            "Quasi-constant features: ['Fare_missing']\n"
          ]
        }
      ]
    },
    {
      "cell_type": "code",
      "source": [
        "#duplicate\n",
        "duplicate_features = X.columns[X.T.duplicated()]\n",
        "print(\"Duplicate features:\", list(duplicate_features))\n"
      ],
      "metadata": {
        "colab": {
          "base_uri": "https://localhost:8080/"
        },
        "id": "QS866w-4anZL",
        "outputId": "10ab5594-cae2-4d37-eb53-a3a6c67cec1a"
      },
      "execution_count": 14,
      "outputs": [
        {
          "output_type": "stream",
          "name": "stdout",
          "text": [
            "Duplicate features: []\n"
          ]
        }
      ]
    },
    {
      "cell_type": "code",
      "source": [
        "#correlation\n",
        "import numpy as np\n",
        "\n",
        "corr_matrix = X.corr().abs()\n",
        "upper = corr_matrix.where(np.triu(np.ones(corr_matrix.shape), k=1).astype(bool))\n",
        "\n",
        "correlated_features = [col for col in upper.columns if any(upper[col] > 0.9)]\n",
        "print(\"Highly correlated features to drop:\", correlated_features)\n"
      ],
      "metadata": {
        "colab": {
          "base_uri": "https://localhost:8080/"
        },
        "id": "RimEvwrdasLL",
        "outputId": "c4713be7-4bfa-4466-a041-69ea34fd9718"
      },
      "execution_count": 15,
      "outputs": [
        {
          "output_type": "stream",
          "name": "stdout",
          "text": [
            "Highly correlated features to drop: []\n"
          ]
        }
      ]
    },
    {
      "cell_type": "code",
      "source": [
        "#mutual information\n",
        "from sklearn.feature_selection import mutual_info_classif\n",
        "\n",
        "mi = mutual_info_classif(X, y, discrete_features='auto', random_state=42)\n",
        "mi_series = pd.Series(mi, index=X.columns).sort_values(ascending=False)\n",
        "print(\"Mutual information scores:\\n\", mi_series)\n"
      ],
      "metadata": {
        "colab": {
          "base_uri": "https://localhost:8080/"
        },
        "id": "UXoyPjmSazzG",
        "outputId": "357b4584-b818-4ee4-ea93-3526ba54a8d5"
      },
      "execution_count": 16,
      "outputs": [
        {
          "output_type": "stream",
          "name": "stdout",
          "text": [
            "Mutual information scores:\n",
            " Sex_male        0.149756\n",
            "Fare            0.135927\n",
            "SibSp           0.046509\n",
            "Pclass          0.024037\n",
            "Age             0.021554\n",
            "Parch           0.012999\n",
            "Embarked_S      0.004541\n",
            "Age_missing     0.000000\n",
            "Fare_missing    0.000000\n",
            "Embarked_Q      0.000000\n",
            "dtype: float64\n"
          ]
        }
      ]
    },
    {
      "cell_type": "code",
      "source": [
        "#chi2\n",
        "import pandas as pd\n",
        "\n",
        "from sklearn.feature_selection import SelectKBest, chi2\n",
        "\n",
        "# Copy X to avoid changing original\n",
        "X_chi = X.copy()\n",
        "\n",
        "# Fill missing values with 0\n",
        "X_chi = X_chi.fillna(0)\n",
        "\n",
        "# One-hot encode categorical features\n",
        "X_chi = pd.get_dummies(X_chi, drop_first=True)\n",
        "\n",
        "# Ensure all values are non-negative (required for chi2)\n",
        "X_chi = X_chi.apply(lambda col: col - col.min() if (col < 0).any() else col)\n",
        "\n",
        "# Apply Chi-square\n",
        "chi_selector = SelectKBest(score_func=chi2, k='all')\n",
        "chi_selector.fit(X_chi, y)\n",
        "\n",
        "# Get scores as Series\n",
        "chi_scores = pd.Series(chi_selector.scores_, index=X_chi.columns).sort_values(ascending=False)\n",
        "p_values = pd.Series(chi_selector.pvalues_, index=X_chi.columns).sort_values()\n",
        "\n",
        "print(\"Chi-square scores:\\n\", chi_scores)\n",
        "print(\"\\nP-values:\\n\", p_values)\n"
      ],
      "metadata": {
        "colab": {
          "base_uri": "https://localhost:8080/"
        },
        "id": "T2OQawSTbGXg",
        "outputId": "368162e9-59d9-4907-d7f3-cde1855191ec"
      },
      "execution_count": 17,
      "outputs": [
        {
          "output_type": "stream",
          "name": "stdout",
          "text": [
            "Chi-square scores:\n",
            " Sex_male        92.702447\n",
            "Fare            87.358232\n",
            "Pclass          30.873699\n",
            "Parch           10.097499\n",
            "Age_missing      6.069142\n",
            "Embarked_S       5.489205\n",
            "SibSp            2.581865\n",
            "Age              1.702543\n",
            "Embarked_Q       0.010847\n",
            "Fare_missing          NaN\n",
            "dtype: float64\n",
            "\n",
            "P-values:\n",
            " Sex_male        6.077838e-22\n",
            "Fare            9.054250e-21\n",
            "Pclass          2.753786e-08\n",
            "Parch           1.484707e-03\n",
            "Age_missing     1.375638e-02\n",
            "Embarked_S      1.913424e-02\n",
            "SibSp           1.080942e-01\n",
            "Age             1.919557e-01\n",
            "Embarked_Q      9.170520e-01\n",
            "Fare_missing             NaN\n",
            "dtype: float64\n"
          ]
        }
      ]
    },
    {
      "cell_type": "code",
      "source": [
        "#anova\n",
        "from sklearn.feature_selection import SelectKBest, f_classif\n",
        "\n",
        "anova_selector = SelectKBest(score_func=f_classif, k='all')\n",
        "anova_selector.fit(X, y)\n",
        "\n",
        "anova_scores = pd.Series(anova_selector.scores_, index=X.columns).sort_values(ascending=False)\n",
        "print(\"ANOVA F-test scores:\\n\", anova_scores)\n"
      ],
      "metadata": {
        "colab": {
          "base_uri": "https://localhost:8080/"
        },
        "id": "mVrmwvqwcphI",
        "outputId": "1b3dcb0a-ba4d-4929-d788-19ebd7eea926"
      },
      "execution_count": 18,
      "outputs": [
        {
          "output_type": "stream",
          "name": "stdout",
          "text": [
            "ANOVA F-test scores:\n",
            " Sex_male        372.405724\n",
            "Pclass          115.031272\n",
            "Fare             63.030764\n",
            "Embarked_S       20.374460\n",
            "Age_missing       7.621461\n",
            "Parch             5.963464\n",
            "Age               3.761528\n",
            "SibSp             1.110572\n",
            "Embarked_Q        0.011846\n",
            "Fare_missing           NaN\n",
            "dtype: float64\n"
          ]
        },
        {
          "output_type": "stream",
          "name": "stderr",
          "text": [
            "/usr/local/lib/python3.12/dist-packages/sklearn/feature_selection/_univariate_selection.py:111: UserWarning: Features [6] are constant.\n",
            "  warnings.warn(\"Features %s are constant.\" % constant_features_idx, UserWarning)\n",
            "/usr/local/lib/python3.12/dist-packages/sklearn/feature_selection/_univariate_selection.py:112: RuntimeWarning: invalid value encountered in divide\n",
            "  f = msb / msw\n"
          ]
        }
      ]
    },
    {
      "cell_type": "code",
      "source": [
        "#auc-roc\n",
        "from sklearn.metrics import roc_auc_score\n",
        "\n",
        "auc_scores = {}\n",
        "for col in X.columns:\n",
        "    try:\n",
        "        auc = roc_auc_score(y, X[col])\n",
        "        auc_scores[col] = auc\n",
        "    except:\n",
        "        continue\n",
        "\n",
        "auc_series = pd.Series(auc_scores).sort_values(ascending=False)\n",
        "print(\"Univariate AUC-ROC scores:\\n\", auc_series)\n",
        "\n"
      ],
      "metadata": {
        "colab": {
          "base_uri": "https://localhost:8080/"
        },
        "id": "gKsL0Ng3cr8A",
        "outputId": "a448448d-c389-45c7-9a48-2e05cd587c5c"
      },
      "execution_count": 19,
      "outputs": [
        {
          "output_type": "stream",
          "name": "stdout",
          "text": [
            "Univariate AUC-ROC scores:\n",
            " Fare            0.692122\n",
            "Parch           0.561217\n",
            "SibSp           0.543162\n",
            "Embarked_Q      0.501055\n",
            "Fare_missing    0.500000\n",
            "Age             0.478166\n",
            "Age_missing     0.462180\n",
            "Embarked_S      0.431287\n",
            "Pclass          0.318583\n",
            "Sex_male        0.233127\n",
            "dtype: float64\n"
          ]
        }
      ]
    },
    {
      "cell_type": "markdown",
      "source": [
        "wrapper methods"
      ],
      "metadata": {
        "id": "vSYDmRx6tv5G"
      }
    },
    {
      "cell_type": "code",
      "source": [
        "#forward slection\n",
        "from sklearn.linear_model import LogisticRegression\n",
        "from sklearn.model_selection import cross_val_score\n",
        "import numpy as np\n",
        "\n",
        "selected = []\n",
        "features = list(X.columns)\n",
        "\n",
        "while features:\n",
        "    best_feat, best_score = None, 0\n",
        "    for feat in features:\n",
        "        score = np.mean(cross_val_score(LogisticRegression(max_iter=1000), X[selected+[feat]], y, cv=5))\n",
        "        if score > best_score:\n",
        "            best_score, best_feat = score, feat\n",
        "    if best_feat:\n",
        "        selected.append(best_feat)\n",
        "        features.remove(best_feat)\n",
        "    else:\n",
        "        break\n",
        "\n",
        "print(\"Selected features:\", selected)\n"
      ],
      "metadata": {
        "colab": {
          "base_uri": "https://localhost:8080/"
        },
        "id": "Xkyw5r8_dagR",
        "outputId": "6edc5a2b-006e-4b11-9748-bcb9cc1bd58e"
      },
      "execution_count": 20,
      "outputs": [
        {
          "output_type": "stream",
          "name": "stdout",
          "text": [
            "Selected features: ['Sex_male', 'SibSp', 'Pclass', 'Fare_missing', 'Embarked_Q', 'Parch', 'Age_missing', 'Fare', 'Embarked_S', 'Age']\n"
          ]
        }
      ]
    },
    {
      "cell_type": "code",
      "source": [
        "#backward selection\n",
        "from sklearn.linear_model import LogisticRegression\n",
        "from sklearn.model_selection import cross_val_score\n",
        "import numpy as np\n",
        "\n",
        "selected = list(X.columns)\n",
        "\n",
        "while len(selected) > 1:\n",
        "    best_score = np.mean(cross_val_score(LogisticRegression(max_iter=1000), X[selected], y, cv=5))\n",
        "    scores = []\n",
        "    for feat in selected:\n",
        "        temp = selected.copy()\n",
        "        temp.remove(feat)\n",
        "        score = np.mean(cross_val_score(LogisticRegression(max_iter=1000), X[temp], y, cv=5))\n",
        "        scores.append((score, feat))\n",
        "    scores.sort(reverse=True)\n",
        "    if scores[0][0] >= best_score:\n",
        "        selected.remove(scores[0][1])\n",
        "    else:\n",
        "        break\n",
        "\n",
        "print(\"Selected features:\", selected)\n"
      ],
      "metadata": {
        "colab": {
          "base_uri": "https://localhost:8080/"
        },
        "id": "ri27b0bht3yU",
        "outputId": "65bfe932-035e-4d9a-c103-076b1caadb50"
      },
      "execution_count": 21,
      "outputs": [
        {
          "output_type": "stream",
          "name": "stdout",
          "text": [
            "Selected features: ['Pclass', 'Age', 'Parch', 'Age_missing', 'Sex_male', 'Embarked_Q', 'Embarked_S']\n"
          ]
        }
      ]
    },
    {
      "cell_type": "code",
      "source": [
        "pip install mlxtend\n"
      ],
      "metadata": {
        "colab": {
          "base_uri": "https://localhost:8080/"
        },
        "id": "z-Q7Hp-5t8cQ",
        "outputId": "309e0da7-3c92-420c-a63a-c75cfecdd00d"
      },
      "execution_count": 22,
      "outputs": [
        {
          "output_type": "stream",
          "name": "stdout",
          "text": [
            "Requirement already satisfied: mlxtend in /usr/local/lib/python3.12/dist-packages (0.23.4)\n",
            "Requirement already satisfied: scipy>=1.2.1 in /usr/local/lib/python3.12/dist-packages (from mlxtend) (1.16.1)\n",
            "Requirement already satisfied: numpy>=1.16.2 in /usr/local/lib/python3.12/dist-packages (from mlxtend) (2.0.2)\n",
            "Requirement already satisfied: pandas>=0.24.2 in /usr/local/lib/python3.12/dist-packages (from mlxtend) (2.2.2)\n",
            "Requirement already satisfied: scikit-learn>=1.3.1 in /usr/local/lib/python3.12/dist-packages (from mlxtend) (1.6.1)\n",
            "Requirement already satisfied: matplotlib>=3.0.0 in /usr/local/lib/python3.12/dist-packages (from mlxtend) (3.10.0)\n",
            "Requirement already satisfied: joblib>=0.13.2 in /usr/local/lib/python3.12/dist-packages (from mlxtend) (1.5.2)\n",
            "Requirement already satisfied: contourpy>=1.0.1 in /usr/local/lib/python3.12/dist-packages (from matplotlib>=3.0.0->mlxtend) (1.3.3)\n",
            "Requirement already satisfied: cycler>=0.10 in /usr/local/lib/python3.12/dist-packages (from matplotlib>=3.0.0->mlxtend) (0.12.1)\n",
            "Requirement already satisfied: fonttools>=4.22.0 in /usr/local/lib/python3.12/dist-packages (from matplotlib>=3.0.0->mlxtend) (4.59.2)\n",
            "Requirement already satisfied: kiwisolver>=1.3.1 in /usr/local/lib/python3.12/dist-packages (from matplotlib>=3.0.0->mlxtend) (1.4.9)\n",
            "Requirement already satisfied: packaging>=20.0 in /usr/local/lib/python3.12/dist-packages (from matplotlib>=3.0.0->mlxtend) (25.0)\n",
            "Requirement already satisfied: pillow>=8 in /usr/local/lib/python3.12/dist-packages (from matplotlib>=3.0.0->mlxtend) (11.3.0)\n",
            "Requirement already satisfied: pyparsing>=2.3.1 in /usr/local/lib/python3.12/dist-packages (from matplotlib>=3.0.0->mlxtend) (3.2.3)\n",
            "Requirement already satisfied: python-dateutil>=2.7 in /usr/local/lib/python3.12/dist-packages (from matplotlib>=3.0.0->mlxtend) (2.9.0.post0)\n",
            "Requirement already satisfied: pytz>=2020.1 in /usr/local/lib/python3.12/dist-packages (from pandas>=0.24.2->mlxtend) (2025.2)\n",
            "Requirement already satisfied: tzdata>=2022.7 in /usr/local/lib/python3.12/dist-packages (from pandas>=0.24.2->mlxtend) (2025.2)\n",
            "Requirement already satisfied: threadpoolctl>=3.1.0 in /usr/local/lib/python3.12/dist-packages (from scikit-learn>=1.3.1->mlxtend) (3.6.0)\n",
            "Requirement already satisfied: six>=1.5 in /usr/local/lib/python3.12/dist-packages (from python-dateutil>=2.7->matplotlib>=3.0.0->mlxtend) (1.17.0)\n"
          ]
        }
      ]
    },
    {
      "cell_type": "code",
      "source": [
        "#exhaustive search\n",
        "from mlxtend.feature_selection import ExhaustiveFeatureSelector as EFS\n",
        "from sklearn.linear_model import LogisticRegression\n",
        "\n",
        "model = LogisticRegression(max_iter=1000)\n",
        "\n",
        "efs = EFS(model,\n",
        "          min_features=1,\n",
        "          max_features=3,\n",
        "          scoring='accuracy',\n",
        "          cv=5)\n",
        "\n",
        "efs = efs.fit(X, y)\n",
        "\n",
        "print(\"Best features:\", efs.best_feature_names_)\n"
      ],
      "metadata": {
        "colab": {
          "base_uri": "https://localhost:8080/"
        },
        "id": "jri2nbIPuJh8",
        "outputId": "2c6746d2-b46f-4ba7-eb0c-8956d5a3ff33"
      },
      "execution_count": 23,
      "outputs": [
        {
          "output_type": "stream",
          "name": "stderr",
          "text": [
            "Features: 175/175"
          ]
        },
        {
          "output_type": "stream",
          "name": "stdout",
          "text": [
            "Best features: ('Pclass', 'SibSp', 'Sex_male')\n"
          ]
        }
      ]
    },
    {
      "cell_type": "code",
      "source": [
        "#recurssive feature elimination\n",
        "from sklearn.feature_selection import RFE\n",
        "from sklearn.linear_model import LogisticRegression\n",
        "\n",
        "model = LogisticRegression(max_iter=1000)\n",
        "rfe = RFE(model, n_features_to_select=5)\n",
        "rfe.fit(X, y)\n",
        "\n",
        "print(\"Selected features:\", list(X.columns[rfe.support_]))\n"
      ],
      "metadata": {
        "colab": {
          "base_uri": "https://localhost:8080/"
        },
        "id": "bDLwk5j4uMbj",
        "outputId": "b236a509-6ff7-4387-e570-90865b53a849"
      },
      "execution_count": 24,
      "outputs": [
        {
          "output_type": "stream",
          "name": "stdout",
          "text": [
            "Selected features: ['Pclass', 'Age', 'SibSp', 'Sex_male', 'Embarked_S']\n"
          ]
        }
      ]
    },
    {
      "cell_type": "markdown",
      "source": [
        "embedded methodsL1 (Lasso)\tShrinks some coefficients to 0 → feature is removed\n",
        "L2 (Ridge)\tShrinks coefficients but doesn’t eliminate features\n",
        "Elastic Net\tMix of L1 & L2 → balances removal and shrinkage\n",
        "Random Forest\tUses decision trees to rank feature importance\n",
        "Decision Tree\tUses splits to decide which features matter most\n",
        "SVM (Linear)\tL1 penalization makes some weights 0 → selects feat"
      ],
      "metadata": {
        "id": "QEhqHozRy58m"
      }
    },
    {
      "cell_type": "code",
      "source": [
        "#lasso\n",
        "from sklearn.linear_model import LogisticRegression\n",
        "\n",
        "model = LogisticRegression(penalty='l1', solver='liblinear')\n",
        "model.fit(X, y)\n",
        "\n",
        "coef = pd.Series(model.coef_[0], index=X.columns)\n",
        "print(\"Selected by Lasso:\", coef[coef != 0].index.tolist())\n"
      ],
      "metadata": {
        "colab": {
          "base_uri": "https://localhost:8080/"
        },
        "id": "PqHF8FZqucZT",
        "outputId": "9a639b36-cc5d-4bfc-cce4-a1991f251096"
      },
      "execution_count": 25,
      "outputs": [
        {
          "output_type": "stream",
          "name": "stdout",
          "text": [
            "Selected by Lasso: ['Pclass', 'Age', 'SibSp', 'Parch', 'Fare', 'Age_missing', 'Sex_male', 'Embarked_S']\n"
          ]
        }
      ]
    },
    {
      "cell_type": "code",
      "source": [
        "#ridge\n",
        "from sklearn.linear_model import LogisticRegression\n",
        "\n",
        "model = LogisticRegression(penalty='l2', solver='liblinear')\n",
        "model.fit(X, y)\n",
        "\n",
        "coef = pd.Series(model.coef_[0], index=X.columns)\n",
        "print(\"Ridge coefficients:\\n\", coef)\n"
      ],
      "metadata": {
        "colab": {
          "base_uri": "https://localhost:8080/"
        },
        "id": "02D56l2izLJK",
        "outputId": "5cd02e6d-293b-4fe0-9356-be1c763e18dd"
      },
      "execution_count": 26,
      "outputs": [
        {
          "output_type": "stream",
          "name": "stdout",
          "text": [
            "Ridge coefficients:\n",
            " Pclass         -0.907603\n",
            "Age            -0.448959\n",
            "SibSp          -0.303707\n",
            "Parch          -0.087240\n",
            "Fare            0.176935\n",
            "Age_missing    -0.307726\n",
            "Fare_missing    0.000000\n",
            "Sex_male       -2.490073\n",
            "Embarked_Q      0.152098\n",
            "Embarked_S     -0.301108\n",
            "dtype: float64\n"
          ]
        }
      ]
    },
    {
      "cell_type": "code",
      "source": [
        "#elasticnet\n",
        "from sklearn.linear_model import LogisticRegression\n",
        "\n",
        "model = LogisticRegression(penalty='elasticnet', solver='saga', l1_ratio=0.5)\n",
        "model.fit(X, y)\n",
        "\n",
        "coef = pd.Series(model.coef_[0], index=X.columns)\n",
        "print(\"Selected by Elastic Net:\", coef[coef != 0].index.tolist())\n"
      ],
      "metadata": {
        "colab": {
          "base_uri": "https://localhost:8080/"
        },
        "id": "shkvIuhvzPGd",
        "outputId": "a558a3cc-8cda-463c-cbe2-dbd51a7abd09"
      },
      "execution_count": 27,
      "outputs": [
        {
          "output_type": "stream",
          "name": "stdout",
          "text": [
            "Selected by Elastic Net: ['Pclass', 'Age', 'SibSp', 'Parch', 'Fare', 'Age_missing', 'Sex_male', 'Embarked_Q', 'Embarked_S']\n"
          ]
        }
      ]
    },
    {
      "cell_type": "code",
      "source": [
        "#randomforest\n",
        "from sklearn.ensemble import RandomForestClassifier\n",
        "\n",
        "model = RandomForestClassifier()\n",
        "model.fit(X, y)\n",
        "\n",
        "imp = pd.Series(model.feature_importances_, index=X.columns)\n",
        "print(\"Random Forest importance:\\n\", imp.sort_values(ascending=False))\n"
      ],
      "metadata": {
        "colab": {
          "base_uri": "https://localhost:8080/"
        },
        "id": "3-ieGa_ezQyt",
        "outputId": "32dc7e8c-bce9-4c60-9182-15df1c12b237"
      },
      "execution_count": 28,
      "outputs": [
        {
          "output_type": "stream",
          "name": "stdout",
          "text": [
            "Random Forest importance:\n",
            " Fare            0.275130\n",
            "Sex_male        0.254612\n",
            "Age             0.242922\n",
            "Pclass          0.092578\n",
            "SibSp           0.048037\n",
            "Parch           0.037037\n",
            "Embarked_S      0.024116\n",
            "Age_missing     0.015663\n",
            "Embarked_Q      0.009905\n",
            "Fare_missing    0.000000\n",
            "dtype: float64\n"
          ]
        }
      ]
    },
    {
      "cell_type": "code",
      "source": [
        "#decisiontree\n",
        "from sklearn.tree import DecisionTreeClassifier\n",
        "\n",
        "model = DecisionTreeClassifier()\n",
        "model.fit(X, y)\n",
        "\n",
        "imp = pd.Series(model.feature_importances_, index=X.columns)\n",
        "print(\"Decision Tree importance:\\n\", imp.sort_values(ascending=False))\n"
      ],
      "metadata": {
        "colab": {
          "base_uri": "https://localhost:8080/"
        },
        "id": "RMFDFFoJzWcs",
        "outputId": "2c5dde99-6ed8-43fe-8c2e-69eb255a1a77"
      },
      "execution_count": 29,
      "outputs": [
        {
          "output_type": "stream",
          "name": "stdout",
          "text": [
            "Decision Tree importance:\n",
            " Sex_male        0.309335\n",
            "Fare            0.251092\n",
            "Age             0.224509\n",
            "Pclass          0.115598\n",
            "SibSp           0.050081\n",
            "Parch           0.026527\n",
            "Embarked_S      0.012480\n",
            "Age_missing     0.010164\n",
            "Embarked_Q      0.000213\n",
            "Fare_missing    0.000000\n",
            "dtype: float64\n"
          ]
        }
      ]
    },
    {
      "cell_type": "code",
      "source": [
        "#linearsvm\n",
        "from sklearn.svm import LinearSVC\n",
        "\n",
        "model = LinearSVC(penalty='l1', dual=False)\n",
        "model.fit(X, y)\n",
        "\n",
        "coef = pd.Series(model.coef_[0], index=X.columns)\n",
        "print(\"Selected by SVM:\", coef[coef != 0].index.tolist())\n"
      ],
      "metadata": {
        "colab": {
          "base_uri": "https://localhost:8080/"
        },
        "id": "UV5Lta6QzYKN",
        "outputId": "fb02fde5-eec1-40e7-f779-f97ca89b6dc6"
      },
      "execution_count": 30,
      "outputs": [
        {
          "output_type": "stream",
          "name": "stdout",
          "text": [
            "Selected by SVM: ['Pclass', 'Age', 'SibSp', 'Parch', 'Fare', 'Age_missing', 'Sex_male', 'Embarked_Q', 'Embarked_S']\n"
          ]
        }
      ]
    },
    {
      "cell_type": "markdown",
      "source": [
        "4a Why standardization is necessary:\n",
        "PCA is based on the variance of features. If features are on different scales (e.g. age in years vs income in dollars), PCA will be biased towards features with larger ranges. Standardizing to mean 0 and variance 1 ensures all features contribute equally.\n",
        "\n",
        "4.a. Standardize the variables in the dataset"
      ],
      "metadata": {
        "id": "ImTfgn_K0_ps"
      }
    },
    {
      "cell_type": "code",
      "source": [
        "from sklearn.preprocessing import StandardScaler\n",
        "\n",
        "scaler = StandardScaler()\n",
        "X_scaled = scaler.fit_transform(X)\n"
      ],
      "metadata": {
        "id": "ynB8miKz1Gyy"
      },
      "execution_count": 31,
      "outputs": []
    },
    {
      "cell_type": "markdown",
      "source": [
        "4.b. Perform PCA and create a scatter plot with PC1 and PC2"
      ],
      "metadata": {
        "id": "xlUX3QYg1Jex"
      }
    },
    {
      "cell_type": "code",
      "source": [
        "from sklearn.decomposition import PCA\n",
        "import matplotlib.pyplot as plt\n",
        "\n",
        "# Apply PCA to scaled data\n",
        "pca = PCA(n_components=2)\n",
        "X_pca = pca.fit_transform(X_scaled)\n",
        "\n",
        "# Scatter plot\n",
        "plt.scatter(X_pca[:, 0], X_pca[:, 1])\n",
        "plt.xlabel('PC1')\n",
        "plt.ylabel('PC2')\n",
        "plt.title('PCA Scatter Plot')\n",
        "plt.show()\n"
      ],
      "metadata": {
        "colab": {
          "base_uri": "https://localhost:8080/",
          "height": 472
        },
        "id": "kdRxsMpW1Rkp",
        "outputId": "c20d17a4-d346-46fc-8fcf-eeae469caf61"
      },
      "execution_count": 32,
      "outputs": [
        {
          "output_type": "display_data",
          "data": {
            "text/plain": [
              "<Figure size 640x480 with 1 Axes>"
            ],
            "image/png": "[encoded data removed]"
          },
          "metadata": {}
        }
      ]
    },
    {
      "cell_type": "markdown",
      "source": [
        "4.c. Which variables are most important for PC1 and PC2?\n",
        "\n",
        "Explanation:\n",
        "The importance of each original feature for PC1 and PC2 is given by the PCA component loadings (pca.components_). Higher absolute values mean the feature contributes more to that principal component."
      ],
      "metadata": {
        "id": "5MYh3U3V1XQg"
      }
    },
    {
      "cell_type": "code",
      "source": [
        "import pandas as pd\n",
        "\n",
        "# Create a DataFrame for component loadings\n",
        "loadings = pd.DataFrame(pca.components_, columns=X.columns, index=['PC1', 'PC2'])\n",
        "print(\"Loadings (importance of variables):\\n\", loadings)\n",
        "\n",
        "# Show the top contributing features for each PC\n",
        "print(\"\\nMost important for PC1:\\n\", loadings.loc['PC1'].abs().sort_values(ascending=False))\n",
        "print(\"\\nMost important for PC2:\\n\", loadings.loc['PC2'].abs().sort_values(ascending=False))\n"
      ],
      "metadata": {
        "colab": {
          "base_uri": "https://localhost:8080/"
        },
        "id": "ruRTqiI21U07",
        "outputId": "efa604e6-a54b-4898-bd11-29c3371b8260"
      },
      "execution_count": 34,
      "outputs": [
        {
          "output_type": "stream",
          "name": "stdout",
          "text": [
            "Loadings (importance of variables):\n",
            "        Pclass       Age     SibSp     Parch      Fare  Age_missing  \\\n",
            "PC1  0.473588 -0.134537 -0.175271 -0.297671 -0.473378     0.387103   \n",
            "PC2  0.286289 -0.481080  0.537789  0.511390  0.042911     0.105976   \n",
            "\n",
            "     Fare_missing  Sex_male  Embarked_Q  Embarked_S  \n",
            "PC1  1.734723e-18  0.202922    0.425263   -0.205728  \n",
            "PC2 -5.551115e-17 -0.299183    0.163512   -0.080898  \n",
            "\n",
            "Most important for PC1:\n",
            " Pclass          4.735884e-01\n",
            "Fare            4.733785e-01\n",
            "Embarked_Q      4.252632e-01\n",
            "Age_missing     3.871029e-01\n",
            "Parch           2.976711e-01\n",
            "Embarked_S      2.057278e-01\n",
            "Sex_male        2.029220e-01\n",
            "SibSp           1.752706e-01\n",
            "Age             1.345372e-01\n",
            "Fare_missing    1.734723e-18\n",
            "Name: PC1, dtype: float64\n",
            "\n",
            "Most important for PC2:\n",
            " SibSp           5.377893e-01\n",
            "Parch           5.113896e-01\n",
            "Age             4.810804e-01\n",
            "Sex_male        2.991835e-01\n",
            "Pclass          2.862886e-01\n",
            "Embarked_Q      1.635122e-01\n",
            "Age_missing     1.059758e-01\n",
            "Embarked_S      8.089838e-02\n",
            "Fare            4.291059e-02\n",
            "Fare_missing    5.551115e-17\n",
            "Name: PC2, dtype: float64\n"
          ]
        }
      ]
    },
    {
      "cell_type": "markdown",
      "source": [
        "4.d. What percentage of variance is explained by PC1 and PC2?\n",
        "\n",
        "Explanation:\n",
        "PCA tells you how much variance is captured by each principal component through explained_variance_ratio_. This helps to understand how much of the original data’s information is preserved."
      ],
      "metadata": {
        "id": "P5R4fOHm1g0t"
      }
    },
    {
      "cell_type": "code",
      "source": [
        "explained = pca.explained_variance_ratio_\n",
        "print(f\"Variance explained by PC1: {explained[0]*100:.2f}%\")\n",
        "print(f\"Variance explained by PC2: {explained[1]*100:.2f}%\")\n"
      ],
      "metadata": {
        "colab": {
          "base_uri": "https://localhost:8080/"
        },
        "id": "0fbt2NCm1jri",
        "outputId": "27cff4a1-239e-42c0-a182-a29138dc83c9"
      },
      "execution_count": 33,
      "outputs": [
        {
          "output_type": "stream",
          "name": "stdout",
          "text": [
            "Variance explained by PC1: 21.86%\n",
            "Variance explained by PC2: 18.99%\n"
          ]
        }
      ]
    },
    {
      "cell_type": "markdown",
      "source": [
        "4e\n",
        " How many PCs explain more than 80% of the total variance?\n",
        "\n",
        "This question asks: after applying PCA, how many principal components (PCs) do you need so that together they explain at least 80% of the variance in the dataset?\n",
        "\n",
        "You can answer this by looking at the cumulative explained variance"
      ],
      "metadata": {
        "id": "k1C0WC5b1wi5"
      }
    },
    {
      "cell_type": "code",
      "source": [
        "from sklearn.decomposition import PCA\n",
        "from sklearn.preprocessing import StandardScaler\n",
        "import numpy as np\n",
        "\n",
        "# Standardize the data\n",
        "scaler = StandardScaler()\n",
        "X_scaled = scaler.fit_transform(X)\n",
        "\n",
        "# Apply PCA without limiting the number of components\n",
        "pca = PCA()\n",
        "pca.fit(X_scaled)\n",
        "\n",
        "# Calculate cumulative explained variance\n",
        "cumulative_variance = np.cumsum(pca.explained_variance_ratio_)\n",
        "\n",
        "# Find how many components explain more than 80% variance\n",
        "num_components = np.argmax(cumulative_variance >= 0.80) + 1\n",
        "\n",
        "print(f\"Number of PCs explaining more than 80% variance: {num_components}\")\n"
      ],
      "metadata": {
        "colab": {
          "base_uri": "https://localhost:8080/"
        },
        "id": "QLSvrppe10BX",
        "outputId": "f2d3c663-df81-43e8-961d-8b1951ec97fb"
      },
      "execution_count": 35,
      "outputs": [
        {
          "output_type": "stream",
          "name": "stdout",
          "text": [
            "Number of PCs explaining more than 80% variance: 6\n"
          ]
        }
      ]
    }
  ]
}