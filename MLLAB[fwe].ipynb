{
  "nbformat": 4,
  "nbformat_minor": 0,
  "metadata": {
    "colab": {
      "provenance": [],
      "authorship_tag": "ABX9TyOvQihO8OHWyGrPFhq9WGR5",
      "include_colab_link": true
    },
    "kernelspec": {
      "name": "python3",
      "display_name": "Python 3"
    },
    "language_info": {
      "name": "python"
    }
  },
  "cells": [
    {
      "cell_type": "markdown",
      "metadata": {
        "id": "view-in-github",
        "colab_type": "text"
      },
      "source": [
        "<a href=\"https://colab.research.google.com/github/harshitha3506/machine-learning/blob/main/MLLAB%5Bfwe%5D.ipynb\" target=\"_parent\"><img src=\"https://colab.research.google.com/assets/colab-badge.svg\" alt=\"Open In Colab\"/></a>"
      ]
    },
    {
      "cell_type": "code",
      "execution_count": 1,
      "metadata": {
        "id": "CCHtgUr6qZbF"
      },
      "outputs": [],
      "source": [
        "import pandas as pd\n",
        "import numpy as np\n",
        "from sklearn.feature_selection import mutual_info_classif, mutual_info_regression\n",
        "from sklearn.preprocessing import LabelEncoder"
      ]
    },
    {
      "cell_type": "code",
      "source": [
        "import pandas as pd\n",
        "import numpy as np\n",
        "from sklearn.feature_selection import mutual_info_classif, mutual_info_regression\n",
        "from sklearn.feature_selection import chi2, f_classif, f_regression, SelectKBest\n",
        "from sklearn.metrics import roc_auc_score, mean_squared_error\n",
        "from sklearn.preprocessing import LabelEncoder, MinMaxScaler"
      ],
      "metadata": {
        "id": "cqzqgn1KZSD8"
      },
      "execution_count": 42,
      "outputs": []
    },
    {
      "cell_type": "code",
      "source": [
        "from google.colab import drive\n",
        "drive.mount('/content/drive')"
      ],
      "metadata": {
        "colab": {
          "base_uri": "https://localhost:8080/"
        },
        "id": "bOZGJ6dSOs2S",
        "outputId": "28447d3a-98ab-4793-80b2-7dc2f279fcbd"
      },
      "execution_count": 2,
      "outputs": [
        {
          "output_type": "stream",
          "name": "stdout",
          "text": [
            "Mounted at /content/drive\n"
          ]
        }
      ]
    },
    {
      "cell_type": "markdown",
      "source": [
        "load data"
      ],
      "metadata": {
        "id": "-VRX4r48SYPs"
      }
    },
    {
      "cell_type": "code",
      "source": [
        "train = pd.read_csv('/content/house_price_train.csv')"
      ],
      "metadata": {
        "id": "XhsfOS1zQygL"
      },
      "execution_count": 8,
      "outputs": []
    },
    {
      "cell_type": "code",
      "source": [
        "test = pd.read_csv('/content/house_price_test.csv')"
      ],
      "metadata": {
        "id": "6w8MtD_8RYSs"
      },
      "execution_count": 9,
      "outputs": []
    },
    {
      "cell_type": "code",
      "source": [
        "print(\"Train shape:\", train.shape)\n",
        "print(\"Test shape:\", test.shape)"
      ],
      "metadata": {
        "colab": {
          "base_uri": "https://localhost:8080/"
        },
        "id": "EyxyNAv0ReYO",
        "outputId": "5aae1e18-1cb0-4773-ebc9-ead1e7740c4b"
      },
      "execution_count": 10,
      "outputs": [
        {
          "output_type": "stream",
          "name": "stdout",
          "text": [
            "Train shape: (1460, 81)\n",
            "Test shape: (1459, 80)\n"
          ]
        }
      ]
    },
    {
      "cell_type": "code",
      "source": [
        "train1 = pd.read_csv('/content/titanic_train.csv')"
      ],
      "metadata": {
        "id": "NtfLhEusVikz"
      },
      "execution_count": 20,
      "outputs": []
    },
    {
      "cell_type": "code",
      "source": [
        "test1 = pd.read_csv('/content/titanic_test.csv')"
      ],
      "metadata": {
        "id": "TByELpN_Vpoq"
      },
      "execution_count": 21,
      "outputs": []
    },
    {
      "cell_type": "code",
      "source": [
        "print(\"Train shape:\", train1.shape)\n",
        "print(\"Test shape:\", test1.shape)"
      ],
      "metadata": {
        "colab": {
          "base_uri": "https://localhost:8080/"
        },
        "id": "tjdCJxCOV0Q_",
        "outputId": "1032906f-9869-4552-86db-d1c6c2fb69d7"
      },
      "execution_count": 22,
      "outputs": [
        {
          "output_type": "stream",
          "name": "stdout",
          "text": [
            "Train shape: (891, 12)\n",
            "Test shape: (418, 11)\n"
          ]
        }
      ]
    },
    {
      "cell_type": "code",
      "source": [
        "test2 = pd.read_csv(\"/content/Santander Customer Satisfaction_test.csv\")\n",
        "train2 = pd.read_csv(\"/content/Santander Customer Satisfaction_train.csv\")\n"
      ],
      "metadata": {
        "id": "1HFuwQ2SX1jn"
      },
      "execution_count": 30,
      "outputs": []
    },
    {
      "cell_type": "code",
      "source": [
        "print(\"Train shape:\", train2.shape)\n",
        "print(\"Test shape:\", test2.shape)"
      ],
      "metadata": {
        "colab": {
          "base_uri": "https://localhost:8080/"
        },
        "id": "fpMmzNeOYBT7",
        "outputId": "ebdeb1a8-13f6-4f3a-918b-b69624c77ef6"
      },
      "execution_count": 31,
      "outputs": [
        {
          "output_type": "stream",
          "name": "stdout",
          "text": [
            "Train shape: (76020, 371)\n",
            "Test shape: (75818, 370)\n"
          ]
        }
      ]
    },
    {
      "cell_type": "markdown",
      "source": [],
      "metadata": {
        "id": "tLSU-6FORbw1"
      }
    },
    {
      "cell_type": "markdown",
      "source": [
        "constant features"
      ],
      "metadata": {
        "id": "zxN1y4IFSiCg"
      }
    },
    {
      "cell_type": "code",
      "source": [
        "constant_features = [col for col in train.columns if train[col].nunique() == 1]\n",
        "print(\"Constant Features:\", constant_features)\n",
        "#Features with only 1 unique value"
      ],
      "metadata": {
        "colab": {
          "base_uri": "https://localhost:8080/"
        },
        "id": "8VKQd9pxShl6",
        "outputId": "fa94285e-39f1-4ab8-ccb3-e929564fd6e6"
      },
      "execution_count": 12,
      "outputs": [
        {
          "output_type": "stream",
          "name": "stdout",
          "text": [
            "Constant Features: []\n"
          ]
        }
      ]
    },
    {
      "cell_type": "code",
      "source": [
        "constant_features = [col for col in train1.columns if train1[col].nunique() == 1]\n",
        "print(\"Constant Features:\", constant_features)"
      ],
      "metadata": {
        "colab": {
          "base_uri": "https://localhost:8080/"
        },
        "id": "BzAuTL6IV5n6",
        "outputId": "e1468962-f75b-4b2c-9fe8-a14d0f6f9b58"
      },
      "execution_count": 23,
      "outputs": [
        {
          "output_type": "stream",
          "name": "stdout",
          "text": [
            "Constant Features: []\n"
          ]
        }
      ]
    },
    {
      "cell_type": "code",
      "source": [
        "constant_features = [col for col in train2.columns if train2[col].nunique() == 1]\n",
        "print(\"Constant Features:\", constant_features)"
      ],
      "metadata": {
        "colab": {
          "base_uri": "https://localhost:8080/"
        },
        "id": "7plFYXMVYI1d",
        "outputId": "e1630c4d-9888-4306-a9e7-c64f74a63d8c"
      },
      "execution_count": 32,
      "outputs": [
        {
          "output_type": "stream",
          "name": "stdout",
          "text": [
            "Constant Features: ['ind_var2_0', 'ind_var2', 'ind_var27_0', 'ind_var28_0', 'ind_var28', 'ind_var27', 'ind_var41', 'ind_var46_0', 'ind_var46', 'num_var27_0', 'num_var28_0', 'num_var28', 'num_var27', 'num_var41', 'num_var46_0', 'num_var46', 'saldo_var28', 'saldo_var27', 'saldo_var41', 'saldo_var46', 'imp_amort_var18_hace3', 'imp_amort_var34_hace3', 'imp_reemb_var13_hace3', 'imp_reemb_var33_hace3', 'imp_trasp_var17_out_hace3', 'imp_trasp_var33_out_hace3', 'num_var2_0_ult1', 'num_var2_ult1', 'num_reemb_var13_hace3', 'num_reemb_var33_hace3', 'num_trasp_var17_out_hace3', 'num_trasp_var33_out_hace3', 'saldo_var2_ult1', 'saldo_medio_var13_medio_hace3']\n"
          ]
        }
      ]
    },
    {
      "cell_type": "code",
      "source": [
        "train = train.drop(columns=constant_features)\n",
        "test = test.drop(columns=constant_features, errors='ignore')\n",
        "#Drop them from train and test"
      ],
      "metadata": {
        "id": "zFZPts6JSwQl"
      },
      "execution_count": 14,
      "outputs": []
    },
    {
      "cell_type": "code",
      "source": [
        "train1 = train1.drop(columns=constant_features)\n",
        "test1 = test1.drop(columns=constant_features, errors='ignore')\n"
      ],
      "metadata": {
        "id": "U1GiwJbwWUdS"
      },
      "execution_count": 24,
      "outputs": []
    },
    {
      "cell_type": "code",
      "source": [
        "train2 = train2.drop(columns=constant_features)\n",
        "test2 = test2.drop(columns=constant_features, errors='ignore')"
      ],
      "metadata": {
        "id": "DBscjdO5YOIr"
      },
      "execution_count": 33,
      "outputs": []
    },
    {
      "cell_type": "markdown",
      "source": [
        "quasi constant features"
      ],
      "metadata": {
        "id": "rJ8nNAtyTper"
      }
    },
    {
      "cell_type": "code",
      "source": [
        "quasi_constant_features = []\n",
        "for col in train.columns:\n",
        "    top_freq = (train[col].value_counts(normalize=True).values[0])\n",
        "    if top_freq > 0.99:   # 99% threshold\n",
        "        quasi_constant_features.append(col)\n",
        "print(\"Quasi-Constant Features:\", quasi_constant_features)\n",
        "#Features with same value in most of rows"
      ],
      "metadata": {
        "colab": {
          "base_uri": "https://localhost:8080/"
        },
        "id": "BIaSPbKzTADc",
        "outputId": "5ba9bb4e-9c2b-4090-8e7a-111965b92c16"
      },
      "execution_count": 15,
      "outputs": [
        {
          "output_type": "stream",
          "name": "stdout",
          "text": [
            "Quasi-Constant Features: ['Street', 'Utilities', 'PoolArea']\n"
          ]
        }
      ]
    },
    {
      "cell_type": "code",
      "source": [
        "train = train.drop(columns=quasi_constant_features)\n",
        "test = test.drop(columns=quasi_constant_features, errors='ignore')"
      ],
      "metadata": {
        "id": "36aXisdRUJ9g"
      },
      "execution_count": 16,
      "outputs": []
    },
    {
      "cell_type": "code",
      "source": [
        "quasi_constant_features = []\n",
        "for col in train1.columns:\n",
        "    top_freq = (train1[col].value_counts(normalize=True).values[0])\n",
        "    if top_freq > 0.99:   # 99% threshold\n",
        "        quasi_constant_features.append(col)\n",
        "print(\"Quasi-Constant Features:\", quasi_constant_features)\n"
      ],
      "metadata": {
        "colab": {
          "base_uri": "https://localhost:8080/"
        },
        "id": "VIXiDgb1XFDI",
        "outputId": "d967947e-f8b2-4b35-f0fd-b663fbc02906"
      },
      "execution_count": 25,
      "outputs": [
        {
          "output_type": "stream",
          "name": "stdout",
          "text": [
            "Quasi-Constant Features: []\n"
          ]
        }
      ]
    },
    {
      "cell_type": "code",
      "source": [
        "train1 = train1.drop(columns=quasi_constant_features)\n",
        "test1 = test1.drop(columns=quasi_constant_features, errors='ignore')"
      ],
      "metadata": {
        "id": "OZdqanudXNaB"
      },
      "execution_count": 26,
      "outputs": []
    },
    {
      "cell_type": "code",
      "source": [
        "quasi_constant_features = []\n",
        "for col in train2.columns:\n",
        "    top_freq = (train2[col].value_counts(normalize=True).values[0])\n",
        "    if top_freq > 0.99:   # 99% threshold\n",
        "        quasi_constant_features.append(col)\n",
        "print(\"Quasi-Constant Features:\", quasi_constant_features)\n"
      ],
      "metadata": {
        "colab": {
          "base_uri": "https://localhost:8080/"
        },
        "id": "n822WqsJYSfo",
        "outputId": "61945dc5-c940-420e-fce0-a936ea5a7676"
      },
      "execution_count": 34,
      "outputs": [
        {
          "output_type": "stream",
          "name": "stdout",
          "text": [
            "Quasi-Constant Features: ['imp_op_var40_comer_ult1', 'imp_op_var40_comer_ult3', 'imp_op_var40_efect_ult1', 'imp_op_var40_efect_ult3', 'imp_op_var40_ult1', 'imp_sal_var16_ult1', 'ind_var1', 'ind_var6_0', 'ind_var6', 'ind_var13_largo', 'ind_var13_medio_0', 'ind_var13_medio', 'ind_var14', 'ind_var17_0', 'ind_var17', 'ind_var18_0', 'ind_var18', 'ind_var19', 'ind_var20_0', 'ind_var20', 'ind_var29_0', 'ind_var29', 'ind_var30_0', 'ind_var31_0', 'ind_var31', 'ind_var32_cte', 'ind_var32_0', 'ind_var32', 'ind_var33_0', 'ind_var33', 'ind_var34_0', 'ind_var34', 'ind_var40', 'ind_var39', 'ind_var44_0', 'ind_var44', 'num_var1', 'num_var6_0', 'num_var6', 'num_var13_largo', 'num_var13_medio_0', 'num_var13_medio', 'num_var14', 'num_var17_0', 'num_var17', 'num_var18_0', 'num_var18', 'num_var20_0', 'num_var20', 'num_op_var40_hace2', 'num_op_var40_hace3', 'num_op_var40_ult1', 'num_op_var40_ult3', 'num_var29_0', 'num_var29', 'num_var31_0', 'num_var31', 'num_var32_0', 'num_var32', 'num_var33_0', 'num_var33', 'num_var34_0', 'num_var34', 'num_var40', 'num_var39', 'num_var44_0', 'num_var44', 'saldo_var1', 'saldo_var6', 'saldo_var13_largo', 'saldo_var13_medio', 'saldo_var14', 'saldo_var17', 'saldo_var18', 'saldo_var20', 'saldo_var29', 'saldo_var31', 'saldo_var32', 'saldo_var33', 'saldo_var34', 'saldo_var40', 'saldo_var44', 'delta_imp_amort_var18_1y3', 'delta_imp_amort_var34_1y3', 'delta_imp_aport_var17_1y3', 'delta_imp_aport_var33_1y3', 'delta_imp_compra_var44_1y3', 'delta_imp_reemb_var13_1y3', 'delta_imp_reemb_var17_1y3', 'delta_imp_reemb_var33_1y3', 'delta_imp_trasp_var17_in_1y3', 'delta_imp_trasp_var17_out_1y3', 'delta_imp_trasp_var33_in_1y3', 'delta_imp_trasp_var33_out_1y3', 'delta_imp_venta_var44_1y3', 'delta_num_aport_var17_1y3', 'delta_num_aport_var33_1y3', 'delta_num_compra_var44_1y3', 'delta_num_reemb_var13_1y3', 'delta_num_reemb_var17_1y3', 'delta_num_reemb_var33_1y3', 'delta_num_trasp_var17_in_1y3', 'delta_num_trasp_var17_out_1y3', 'delta_num_trasp_var33_in_1y3', 'delta_num_trasp_var33_out_1y3', 'delta_num_venta_var44_1y3', 'imp_amort_var18_ult1', 'imp_amort_var34_ult1', 'imp_aport_var13_ult1', 'imp_aport_var17_hace3', 'imp_aport_var17_ult1', 'imp_aport_var33_hace3', 'imp_aport_var33_ult1', 'imp_var7_emit_ult1', 'imp_var7_recib_ult1', 'imp_compra_var44_hace3', 'imp_compra_var44_ult1', 'imp_reemb_var13_ult1', 'imp_reemb_var17_hace3', 'imp_reemb_var17_ult1', 'imp_reemb_var33_ult1', 'imp_trasp_var17_in_hace3', 'imp_trasp_var17_in_ult1', 'imp_trasp_var17_out_ult1', 'imp_trasp_var33_in_hace3', 'imp_trasp_var33_in_ult1', 'imp_trasp_var33_out_ult1', 'imp_venta_var44_hace3', 'imp_venta_var44_ult1', 'ind_var7_emit_ult1', 'ind_var7_recib_ult1', 'num_aport_var13_ult1', 'num_aport_var17_hace3', 'num_aport_var17_ult1', 'num_aport_var33_hace3', 'num_aport_var33_ult1', 'num_var7_emit_ult1', 'num_var7_recib_ult1', 'num_compra_var44_hace3', 'num_compra_var44_ult1', 'num_meses_var13_largo_ult3', 'num_meses_var13_medio_ult3', 'num_meses_var17_ult3', 'num_meses_var29_ult3', 'num_meses_var33_ult3', 'num_meses_var44_ult3', 'num_op_var40_comer_ult1', 'num_op_var40_comer_ult3', 'num_op_var40_efect_ult1', 'num_op_var40_efect_ult3', 'num_reemb_var13_ult1', 'num_reemb_var17_hace3', 'num_reemb_var17_ult1', 'num_reemb_var33_ult1', 'num_sal_var16_ult1', 'num_trasp_var17_in_hace3', 'num_trasp_var17_in_ult1', 'num_trasp_var17_out_ult1', 'num_trasp_var33_in_hace3', 'num_trasp_var33_in_ult1', 'num_trasp_var33_out_ult1', 'num_venta_var44_hace3', 'num_venta_var44_ult1', 'saldo_medio_var8_hace3', 'saldo_medio_var13_largo_hace2', 'saldo_medio_var13_largo_hace3', 'saldo_medio_var13_largo_ult1', 'saldo_medio_var13_largo_ult3', 'saldo_medio_var13_medio_hace2', 'saldo_medio_var13_medio_ult1', 'saldo_medio_var13_medio_ult3', 'saldo_medio_var17_hace2', 'saldo_medio_var17_hace3', 'saldo_medio_var17_ult1', 'saldo_medio_var17_ult3', 'saldo_medio_var29_hace2', 'saldo_medio_var29_hace3', 'saldo_medio_var29_ult1', 'saldo_medio_var29_ult3', 'saldo_medio_var33_hace2', 'saldo_medio_var33_hace3', 'saldo_medio_var33_ult1', 'saldo_medio_var33_ult3', 'saldo_medio_var44_hace2', 'saldo_medio_var44_hace3', 'saldo_medio_var44_ult1', 'saldo_medio_var44_ult3']\n"
          ]
        }
      ]
    },
    {
      "cell_type": "code",
      "source": [
        "train2 = train2.drop(columns=quasi_constant_features)\n",
        "test2 = test2.drop(columns=quasi_constant_features, errors='ignore')"
      ],
      "metadata": {
        "id": "-oJcT8woYWMV"
      },
      "execution_count": 35,
      "outputs": []
    },
    {
      "cell_type": "markdown",
      "source": [
        "duplicate features\n"
      ],
      "metadata": {
        "id": "-Iexq42wUPjw"
      }
    },
    {
      "cell_type": "code",
      "source": [
        "duplicate_features = []\n",
        "for i in range(len(train.columns)):\n",
        "    for j in range(i+1, len(train.columns)):\n",
        "        if train.iloc[:, i].equals(train.iloc[:, j]):\n",
        "            duplicate_features.append(train.columns[j])\n",
        "\n",
        "print(\"Duplicate Features:\", duplicate_features)\n",
        "#checking duplicate coloumns"
      ],
      "metadata": {
        "colab": {
          "base_uri": "https://localhost:8080/"
        },
        "id": "Es7Z2Hv3UXUh",
        "outputId": "34b0a214-e4ea-421f-e287-335d2ed9a41b"
      },
      "execution_count": 17,
      "outputs": [
        {
          "output_type": "stream",
          "name": "stdout",
          "text": [
            "Duplicate Features: []\n"
          ]
        }
      ]
    },
    {
      "cell_type": "code",
      "source": [
        "train = train.drop(columns=duplicate_features)\n",
        "test = test.drop(columns=duplicate_features, errors='ignore')"
      ],
      "metadata": {
        "id": "tMGDOg7PUgUB"
      },
      "execution_count": 18,
      "outputs": []
    },
    {
      "cell_type": "code",
      "source": [
        "duplicate_features = []\n",
        "for i in range(len(train1.columns)):\n",
        "    for j in range(i+1, len(train1.columns)):\n",
        "        if train1.iloc[:, i].equals(train1.iloc[:, j]):\n",
        "            duplicate_features.append(train1.columns[j])\n",
        "\n",
        "print(\"Duplicate Features:\", duplicate_features)"
      ],
      "metadata": {
        "colab": {
          "base_uri": "https://localhost:8080/"
        },
        "id": "oCB5DsU4Xft9",
        "outputId": "a26f876e-8339-46b8-81af-5032d5c4e013"
      },
      "execution_count": 27,
      "outputs": [
        {
          "output_type": "stream",
          "name": "stdout",
          "text": [
            "Duplicate Features: []\n"
          ]
        }
      ]
    },
    {
      "cell_type": "code",
      "source": [
        "train1 = train1.drop(columns=duplicate_features)\n",
        "test1 = test1.drop(columns=duplicate_features, errors='ignore')"
      ],
      "metadata": {
        "id": "yeXvNDhEXhbf"
      },
      "execution_count": 28,
      "outputs": []
    },
    {
      "cell_type": "code",
      "source": [
        "duplicate_features = []\n",
        "for i in range(len(train2.columns)):\n",
        "    for j in range(i+1, len(train2.columns)):\n",
        "        if train2.iloc[:, i].equals(train2.iloc[:, j]):\n",
        "            duplicate_features.append(train2.columns[j])\n",
        "\n",
        "print(\"Duplicate Features:\", duplicate_features)"
      ],
      "metadata": {
        "colab": {
          "base_uri": "https://localhost:8080/"
        },
        "id": "wzrBofnOYbD_",
        "outputId": "74d2000b-72a0-4797-baab-f63f9a043f3f"
      },
      "execution_count": 36,
      "outputs": [
        {
          "output_type": "stream",
          "name": "stdout",
          "text": [
            "Duplicate Features: ['ind_var26', 'ind_var25', 'ind_var37', 'num_var26', 'num_var25', 'num_var37']\n"
          ]
        }
      ]
    },
    {
      "cell_type": "code",
      "source": [
        "train2 = train2.drop(columns=duplicate_features)\n",
        "test2 = test2.drop(columns=duplicate_features, errors='ignore')"
      ],
      "metadata": {
        "id": "6KuO5WYOYgLJ"
      },
      "execution_count": 37,
      "outputs": []
    },
    {
      "cell_type": "markdown",
      "source": [
        "after all what we applied huh\n"
      ],
      "metadata": {
        "id": "K6aTYx6-XUu1"
      }
    },
    {
      "cell_type": "code",
      "source": [
        "print(\"Final Train shape:\", train.shape)\n",
        "print(\"Final Test shape:\", test.shape)"
      ],
      "metadata": {
        "colab": {
          "base_uri": "https://localhost:8080/"
        },
        "id": "KgCZtko1UkvE",
        "outputId": "74c7040f-9894-4e4c-c858-fd3093f278db"
      },
      "execution_count": 19,
      "outputs": [
        {
          "output_type": "stream",
          "name": "stdout",
          "text": [
            "Final Train shape: (1460, 78)\n",
            "Final Test shape: (1459, 77)\n"
          ]
        }
      ]
    },
    {
      "cell_type": "code",
      "source": [
        "print(\"Final Train1 shape:\", train1.shape)\n",
        "print(\"Final Test1 shape:\", test1.shape)"
      ],
      "metadata": {
        "colab": {
          "base_uri": "https://localhost:8080/"
        },
        "id": "gvFt5YGIXl47",
        "outputId": "5f54dccf-89f8-408b-d70a-b6370ca9d8b2"
      },
      "execution_count": 29,
      "outputs": [
        {
          "output_type": "stream",
          "name": "stdout",
          "text": [
            "Final Train1 shape: (891, 12)\n",
            "Final Test1 shape: (418, 11)\n"
          ]
        }
      ]
    },
    {
      "cell_type": "code",
      "source": [
        "print(\"Final Train2 shape:\", train2.shape)\n",
        "print(\"Final Test2 shape:\", test2.shape)"
      ],
      "metadata": {
        "colab": {
          "base_uri": "https://localhost:8080/"
        },
        "id": "FitI13tIYme7",
        "outputId": "4d2969cf-5a3a-47dd-dabe-585ae7c4bb25"
      },
      "execution_count": 38,
      "outputs": [
        {
          "output_type": "stream",
          "name": "stdout",
          "text": [
            "Final Train2 shape: (76020, 144)\n",
            "Final Test2 shape: (75818, 143)\n"
          ]
        }
      ]
    },
    {
      "cell_type": "code",
      "source": [
        "print(train.head())"
      ],
      "metadata": {
        "colab": {
          "base_uri": "https://localhost:8080/"
        },
        "id": "z282QXtKYvAI",
        "outputId": "4ab547ad-2e07-4f59-edb8-582aebbc586f"
      },
      "execution_count": 41,
      "outputs": [
        {
          "output_type": "stream",
          "name": "stdout",
          "text": [
            "   Id  MSSubClass MSZoning  LotFrontage  LotArea Alley LotShape LandContour  \\\n",
            "0   1          60       RL         65.0     8450   NaN      Reg         Lvl   \n",
            "1   2          20       RL         80.0     9600   NaN      Reg         Lvl   \n",
            "2   3          60       RL         68.0    11250   NaN      IR1         Lvl   \n",
            "3   4          70       RL         60.0     9550   NaN      IR1         Lvl   \n",
            "4   5          60       RL         84.0    14260   NaN      IR1         Lvl   \n",
            "\n",
            "  LotConfig LandSlope  ... ScreenPorch PoolQC Fence MiscFeature MiscVal  \\\n",
            "0    Inside       Gtl  ...           0    NaN   NaN         NaN       0   \n",
            "1       FR2       Gtl  ...           0    NaN   NaN         NaN       0   \n",
            "2    Inside       Gtl  ...           0    NaN   NaN         NaN       0   \n",
            "3    Corner       Gtl  ...           0    NaN   NaN         NaN       0   \n",
            "4       FR2       Gtl  ...           0    NaN   NaN         NaN       0   \n",
            "\n",
            "   MoSold  YrSold  SaleType  SaleCondition SalePrice  \n",
            "0       2    2008        WD         Normal    208500  \n",
            "1       5    2007        WD         Normal    181500  \n",
            "2       9    2008        WD         Normal    223500  \n",
            "3       2    2006        WD        Abnorml    140000  \n",
            "4      12    2008        WD         Normal    250000  \n",
            "\n",
            "[5 rows x 78 columns]\n"
          ]
        }
      ]
    },
    {
      "cell_type": "code",
      "source": [
        "print(train1.head())"
      ],
      "metadata": {
        "colab": {
          "base_uri": "https://localhost:8080/"
        },
        "id": "eOjHgUftYtKu",
        "outputId": "16546959-b245-4dcc-8cee-291db869b0d2"
      },
      "execution_count": 40,
      "outputs": [
        {
          "output_type": "stream",
          "name": "stdout",
          "text": [
            "   PassengerId  Survived  Pclass  \\\n",
            "0            1         0       3   \n",
            "1            2         1       1   \n",
            "2            3         1       3   \n",
            "3            4         1       1   \n",
            "4            5         0       3   \n",
            "\n",
            "                                                Name     Sex   Age  SibSp  \\\n",
            "0                            Braund, Mr. Owen Harris    male  22.0      1   \n",
            "1  Cumings, Mrs. John Bradley (Florence Briggs Th...  female  38.0      1   \n",
            "2                             Heikkinen, Miss. Laina  female  26.0      0   \n",
            "3       Futrelle, Mrs. Jacques Heath (Lily May Peel)  female  35.0      1   \n",
            "4                           Allen, Mr. William Henry    male  35.0      0   \n",
            "\n",
            "   Parch            Ticket     Fare Cabin Embarked  \n",
            "0      0         A/5 21171   7.2500   NaN        S  \n",
            "1      0          PC 17599  71.2833   C85        C  \n",
            "2      0  STON/O2. 3101282   7.9250   NaN        S  \n",
            "3      0            113803  53.1000  C123        S  \n",
            "4      0            373450   8.0500   NaN        S  \n"
          ]
        }
      ]
    },
    {
      "cell_type": "code",
      "source": [
        "print(train2.head())"
      ],
      "metadata": {
        "colab": {
          "base_uri": "https://localhost:8080/"
        },
        "id": "sxQiGCEnYp56",
        "outputId": "c059fc98-ea1a-4fea-96ad-52eeb3a3e8c0"
      },
      "execution_count": 39,
      "outputs": [
        {
          "output_type": "stream",
          "name": "stdout",
          "text": [
            "   ID  var3  var15  imp_ent_var16_ult1  imp_op_var39_comer_ult1  \\\n",
            "0   1     2     23                 0.0                      0.0   \n",
            "1   3     2     34                 0.0                      0.0   \n",
            "2   4     2     23                 0.0                      0.0   \n",
            "3   8     2     37                 0.0                    195.0   \n",
            "4  10     2     39                 0.0                      0.0   \n",
            "\n",
            "   imp_op_var39_comer_ult3  imp_op_var41_comer_ult1  imp_op_var41_comer_ult3  \\\n",
            "0                      0.0                      0.0                      0.0   \n",
            "1                      0.0                      0.0                      0.0   \n",
            "2                      0.0                      0.0                      0.0   \n",
            "3                    195.0                    195.0                    195.0   \n",
            "4                      0.0                      0.0                      0.0   \n",
            "\n",
            "   imp_op_var41_efect_ult1  imp_op_var41_efect_ult3  ...  \\\n",
            "0                      0.0                      0.0  ...   \n",
            "1                      0.0                      0.0  ...   \n",
            "2                      0.0                      0.0  ...   \n",
            "3                      0.0                      0.0  ...   \n",
            "4                      0.0                      0.0  ...   \n",
            "\n",
            "   saldo_medio_var12_hace2  saldo_medio_var12_hace3  saldo_medio_var12_ult1  \\\n",
            "0                      0.0                      0.0                    0.00   \n",
            "1                      0.0                      0.0                    0.00   \n",
            "2                      0.0                      0.0                    0.00   \n",
            "3                      0.0                      0.0                    0.00   \n",
            "4                      0.0                      0.0                85501.89   \n",
            "\n",
            "   saldo_medio_var12_ult3  saldo_medio_var13_corto_hace2  \\\n",
            "0                    0.00                            0.0   \n",
            "1                    0.00                          300.0   \n",
            "2                    0.00                            0.0   \n",
            "3                    0.00                            0.0   \n",
            "4                85501.89                            0.0   \n",
            "\n",
            "   saldo_medio_var13_corto_hace3  saldo_medio_var13_corto_ult1  \\\n",
            "0                           0.00                           0.0   \n",
            "1                         122.22                         300.0   \n",
            "2                           0.00                           0.0   \n",
            "3                           0.00                           0.0   \n",
            "4                           0.00                           0.0   \n",
            "\n",
            "   saldo_medio_var13_corto_ult3          var38  TARGET  \n",
            "0                          0.00   39205.170000       0  \n",
            "1                        240.75   49278.030000       0  \n",
            "2                          0.00   67333.770000       0  \n",
            "3                          0.00   64007.970000       0  \n",
            "4                          0.00  117310.979016       0  \n",
            "\n",
            "[5 rows x 144 columns]\n"
          ]
        }
      ]
    },
    {
      "cell_type": "code",
      "source": [
        "import pandas as pd\n",
        "import numpy as np\n",
        "from sklearn.feature_selection import mutual_info_regression, f_regression, mutual_info_classif, f_classif, chi2, RFE\n",
        "from sklearn.preprocessing import MinMaxScaler, LabelEncoder\n",
        "from sklearn.ensemble import RandomForestRegressor\n",
        "from sklearn.tree import DecisionTreeRegressor\n",
        "from sklearn.model_selection import train_test_split\n",
        "from sklearn.metrics import mean_squared_error\n",
        "from mlxtend.feature_selection import SequentialFeatureSelector as SFS, ExhaustiveFeatureSelector as EFS"
      ],
      "metadata": {
        "id": "D3TYW3MMdQGx"
      },
      "execution_count": null,
      "outputs": []
    },
    {
      "cell_type": "markdown",
      "source": [
        "correlation"
      ],
      "metadata": {
        "id": "8slXgjoab4q9"
      }
    },
    {
      "cell_type": "code",
      "source": [
        "df = pd.read_csv(\"/content/house_price_train.csv\")\n",
        "target = \"SalePrice\"\n",
        "X = df.drop(columns=[target])\n",
        "y = df[target]"
      ],
      "metadata": {
        "id": "m0L3nLzBb2YV"
      },
      "execution_count": 44,
      "outputs": []
    },
    {
      "cell_type": "code",
      "source": [
        "# Encode categorical features for ML\n",
        "for col in X.select_dtypes(include=\"object\").columns:\n",
        "    X[col] = LabelEncoder().fit_transform(X[col].astype(str))"
      ],
      "metadata": {
        "id": "ohVwYNqBeeWa"
      },
      "execution_count": null,
      "outputs": []
    },
    {
      "cell_type": "code",
      "source": [
        "num_df = X.select_dtypes(include=[np.number])\n",
        "corr_matrix = num_df.corr().abs()\n",
        "upper_tri = corr_matrix.where(np.triu(np.ones(corr_matrix.shape), k=1).astype(bool))\n",
        "to_drop_corr = [c for c in upper_tri.columns if any(upper_tri[c] > 0.9)]\n",
        "print(\"Dropped Correlated:\", to_drop_corr)"
      ],
      "metadata": {
        "colab": {
          "base_uri": "https://localhost:8080/"
        },
        "id": "dmzUIYphde9S",
        "outputId": "acfdfc74-511d-478a-e579-2c5c54db00f2"
      },
      "execution_count": 47,
      "outputs": [
        {
          "output_type": "stream",
          "name": "stdout",
          "text": [
            "Dropped Correlated: []\n"
          ]
        }
      ]
    },
    {
      "cell_type": "markdown",
      "source": [
        "mutual information"
      ],
      "metadata": {
        "id": "EGmTa7BYdhk2"
      }
    },
    {
      "cell_type": "code",
      "source": [
        "mi_scores = mutual_info_regression(X.fillna(0), y)\n",
        "print(\"Top MI:\\n\", pd.Series(mi_scores, index=X.columns).sort_values(ascending=False).head(10))"
      ],
      "metadata": {
        "colab": {
          "base_uri": "https://localhost:8080/"
        },
        "id": "ds3vonGBdjdg",
        "outputId": "ad4360e6-11f9-4708-faba-940450d32b4e"
      },
      "execution_count": 48,
      "outputs": [
        {
          "output_type": "stream",
          "name": "stdout",
          "text": [
            "Top MI:\n",
            " OverallQual     0.556164\n",
            "Neighborhood    0.521421\n",
            "GrLivArea       0.483478\n",
            "TotalBsmtSF     0.370166\n",
            "GarageArea      0.367348\n",
            "YearBuilt       0.361649\n",
            "GarageCars      0.347473\n",
            "KitchenQual     0.327068\n",
            "BsmtQual        0.323082\n",
            "ExterQual       0.316266\n",
            "dtype: float64\n"
          ]
        }
      ]
    },
    {
      "cell_type": "markdown",
      "source": [
        "anova"
      ],
      "metadata": {
        "id": "7E4bd84JdnTW"
      }
    },
    {
      "cell_type": "code",
      "source": [
        "f_scores, _ = f_regression(X.fillna(0), y)\n",
        "print(\"Top ANOVA:\\n\", pd.Series(f_scores, index=X.columns).sort_values(ascending=False).head(10))"
      ],
      "metadata": {
        "colab": {
          "base_uri": "https://localhost:8080/"
        },
        "id": "2WSZ0CMmdoer",
        "outputId": "f4482dd4-9abe-42b6-a6e8-61141a7f0142"
      },
      "execution_count": 49,
      "outputs": [
        {
          "output_type": "stream",
          "name": "stdout",
          "text": [
            "Top ANOVA:\n",
            " OverallQual    2436.770591\n",
            "GrLivArea      1470.585010\n",
            "GarageCars     1013.705666\n",
            "ExterQual       994.979678\n",
            "GarageArea      926.951287\n",
            "BsmtQual        914.659103\n",
            "TotalBsmtSF     880.341282\n",
            "1stFlrSF        845.524488\n",
            "KitchenQual     775.262307\n",
            "FullBath        668.430296\n",
            "dtype: float64\n"
          ]
        }
      ]
    },
    {
      "cell_type": "markdown",
      "source": [
        "Univariate (MSE)"
      ],
      "metadata": {
        "id": "qSVII9eZdzhx"
      }
    },
    {
      "cell_type": "code",
      "source": [
        "X_train, X_test, y_train, y_test = train_test_split(X.fillna(0), y, test_size=0.3, random_state=0)\n",
        "scores = {}\n",
        "for feature in X.columns:\n",
        "    clf = DecisionTreeRegressor()\n",
        "    clf.fit(X_train[[feature]], y_train)\n",
        "    y_pred = clf.predict(X_test[[feature]])\n",
        "    scores[feature] = -mean_squared_error(y_test, y_pred)\n",
        "print(\"Top Univariate MSE:\\n\", pd.Series(scores).sort_values(ascending=False).head(10))"
      ],
      "metadata": {
        "colab": {
          "base_uri": "https://localhost:8080/"
        },
        "id": "R1He4IBrd0K1",
        "outputId": "faca33ae-b6a0-45a7-b108-795a871793f3"
      },
      "execution_count": 50,
      "outputs": [
        {
          "output_type": "stream",
          "name": "stdout",
          "text": [
            "Top Univariate MSE:\n",
            " OverallQual    -2.097027e+09\n",
            "Neighborhood   -3.140840e+09\n",
            "ExterQual      -3.329082e+09\n",
            "KitchenQual    -3.429306e+09\n",
            "GarageCars     -3.524021e+09\n",
            "BsmtQual       -3.550031e+09\n",
            "GarageFinish   -4.455337e+09\n",
            "FullBath       -4.740520e+09\n",
            "GarageYrBlt    -4.761735e+09\n",
            "YearBuilt      -4.776575e+09\n",
            "dtype: float64\n"
          ]
        }
      ]
    },
    {
      "cell_type": "markdown",
      "source": [
        "wrapper methods"
      ],
      "metadata": {
        "id": "sJyUil1fd68B"
      }
    },
    {
      "cell_type": "code",
      "source": [
        "# Forward Selection\n",
        "sfs = SFS(RandomForestRegressor(), k_features=5, forward=True, scoring='r2', cv=3)\n",
        "sfs.fit(X.fillna(0).values, y.values)\n",
        "print(\"Forward:\", list(sfs.k_feature_names_))"
      ],
      "metadata": {
        "colab": {
          "base_uri": "https://localhost:8080/"
        },
        "id": "zR9Ol1PNd6Gr",
        "outputId": "0b9610e7-2505-4329-bcc8-34e77086e505"
      },
      "execution_count": 51,
      "outputs": [
        {
          "output_type": "stream",
          "name": "stdout",
          "text": [
            "Forward: ['12', '17', '34', '44', '46']\n"
          ]
        }
      ]
    },
    {
      "cell_type": "code",
      "source": [
        "# Backward Selection\n",
        "sbs = SFS(RandomForestRegressor(), k_features=5, forward=False, scoring='r2', cv=3)\n",
        "sbs.fit(X.fillna(0).values, y.values)\n",
        "print(\"Backward:\", list(sbs.k_feature_names_))"
      ],
      "metadata": {
        "id": "eh9C7i4teBUA"
      },
      "execution_count": null,
      "outputs": []
    },
    {
      "cell_type": "markdown",
      "source": [
        "exhaustive search"
      ],
      "metadata": {
        "id": "g30OMO5beEkG"
      }
    },
    {
      "cell_type": "code",
      "source": [
        "efs = EFS(RandomForestRegressor(), min_features=1, max_features=4, scoring='r2', cv=3)\n",
        "efs.fit(X.fillna(0).values, y.values)\n",
        "print(\"Exhaustive:\", list(efs.best_feature_names_))"
      ],
      "metadata": {
        "id": "kPJweWX-eIKr"
      },
      "execution_count": null,
      "outputs": []
    },
    {
      "cell_type": "markdown",
      "source": [
        "rfe"
      ],
      "metadata": {
        "id": "1cgb14uSeUL9"
      }
    },
    {
      "cell_type": "code",
      "source": [
        "rfe = RFE(RandomForestRegressor(), n_features_to_select=5)\n",
        "rfe.fit(X.fillna(0), y)\n",
        "print(\"RFE:\", X.columns[rfe.support_].tolist())"
      ],
      "metadata": {
        "id": "YEN419hOeVbD"
      },
      "execution_count": null,
      "outputs": []
    }
  ]
}